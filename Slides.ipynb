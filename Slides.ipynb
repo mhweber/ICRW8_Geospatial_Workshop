{
 "cells": [
  {
   "cell_type": "markdown",
   "id": "c636b133-3ce4-4db5-a6f7-e45b68f73777",
   "metadata": {},
   "source": [
    "## Spatial Data Structures\n",
    "As we discussed, spatial data structures in modern Python implementation, as with R, rely on core libraries under the hood.\n",
    "\n",
    "These libraries include: \n",
    "\n",
    "  - **PROJ** --> projections, transformations  \n",
    "  \n",
    "  - **GEOS** --> Geometry operations (measures, relations)\n",
    "  \n",
    "  - **GDAL** --> geodata abstraction and processing (read, write)\n",
    "  \n",
    "As in R and elsewhere with spatial data, we have two main data models for spatial data that define how our conceptual model of elements of data are organized:\n",
    "- *vector data model*:  points, lines and areas\n",
    "- *raster data model*: a grid-like structure that holds values for each grid cell\n",
    "\n",
    "We also have *extensions* of these data models with:\n",
    "- *spatio-temporal data model*: A data model that incorporates time (t) as an additional dimension to the geographical dimension (x, y)\n",
    "- *topological data model*: A data model that *integrates* vector data so that topological relationships are incorporated into the core model, e.g. street networks (shortest routes) and for us, river networks - upstream / downstream relationships\n",
    "\n",
    "We apply different sets of spatial tools for different kinds of operations depending on the data model we're working with.\n",
    "\n",
    "**Vector Geometry Types**\n",
    "As we saw in R, our basic vector geometry types are defined with the [Simple Features Access Specification](https://www.ogc.org/standards/) - these types are `Point`, `LineString`, `Polygon`, and the collections types of `Multipoint`, `MultiLineString`, and `MultiPolygon`.\n",
    "\n",
    "Just as we showed previously, these geometries use either `WKT` or `WKB` specifications in a list-column to repesent vector data features.\n",
    "\n",
    "**Raster Data Type**\n",
    "\n",
    "In the raster data model data is represented as arrays of cells (pixels) to represent real-world objects or continuous phenomena. Photos with a digital camera are essentially raster data (without spatial reference though) that capture RGB colors and store as pixels in separate layers (or bands or channels). \n",
    "\n",
    "Aspects of the raster data model include:\n",
    "- *spatial resolution*: The size in real world units of the a cell\n",
    "- *continuous or discrete* do the cells represent continuous information like soil type or geology or discrete information like land cover classification?\n",
    "- *bit depth*: The range of values the raster can hold\n",
    "\n",
    "\n",
    "![_ Raster data model ](../img/raster_data_model.jpg)\n",
    "\n",
    "_Figure 1. Raster data model from [Python for Geographic Data Analysis Chapter 5](https://pythongis.org/part2/chapter-05/nb/01-introduction-to-geographic-data-in-python.html)_\n",
    "\n",
    "\n",
    "![_**Figure 2**. Examples of raster bit depths._](../img/raster_bit_depths.jpg)\n",
    "\n",
    "_Figure 2. Raster data model from [Python for Geographic Data Analysis Chapter 5](https://pythongis.org/part2/chapter-05/nb/01-introduction-to-geographic-data-in-python.html)_\n",
    "\n",
    "**Raster data formats**\n",
    "\n",
    "Raster data comes in a wide variety of formats but a few of the most common are:\n",
    "\n",
    "- **GeoTIFF**: An popen, non-proprietary raster data format based on the `TIFF format` originally developed at NASA in the early 90's. Portable and platform independent. The file extension of GeoTIFF is `.tif`. \n",
    "- **COG**: A Cloud Optimized GeoTIFF (COG) is a file format based on GeoTIFF. COG files are typically hosted on HTTP file servers. The format can enable more efficient workflows with large data files by leveraging the ability of users to *retrieve just the parts of the file that they need*, instead of downloading the whole file every time. The file extension of COG is `.tif` (i.e. the same as with GeoTIFF). \n",
    "- **NetCDF**: Network Common Data Form (NetCDF) is a portable, self-describing and scalable file format for storing array-oriented multidimensional scientific data, commonly used for storing earch science data. Variables stored in NetCDF are often measured multiple times per day (i.e.. temporal) over large (e.g. continental) areas. The file extension of NetCDF is `.nc4`. \n",
    "- **ASCII Grid**: The ASCII Raster File format is a simple format that can be used to transfer raster data between various applications. The file format was originally developed by ESRI and it is also known as Arc/Info ASCII grid. The file extension of ASCII Raster File is `.asc`. \n",
    "- **IMG**: The ERDAS Imagine file format (IMG) is proprietary file format that was originally created by an image processing software company called ERDAS. The file can be accompanied with an .xml file which stores metadata information about the raster layer. The file extension of Imagine file format is `.img`.\n",
    "\n",
    "**Network Data Model**\n",
    "See [this section in Python for Geographic Data Analysis](https://pythongis.org/part2/chapter-05/nb/01-introduction-to-geographic-data-in-python.html#representing-spatial-networks) for a nice treatment of the network data model."
   ]
  },
  {
   "cell_type": "markdown",
   "id": "eb4cff5c-d077-46a7-affa-ed8457b56b3d",
   "metadata": {},
   "source": [
    "### Vector Data in Python\n",
    "We can see see the list of supported drivers for vector data available through GDAL and exposesed by the `Fiona` library:"
   ]
  },
  {
   "cell_type": "code",
   "execution_count": 1,
   "id": "8cbc0591-0885-4bc3-850a-f9d7825b5b42",
   "metadata": {},
   "outputs": [
    {
     "data": {
      "text/plain": [
       "{'DXF': 'rw',\n",
       " 'CSV': 'raw',\n",
       " 'OpenFileGDB': 'raw',\n",
       " 'ESRIJSON': 'r',\n",
       " 'ESRI Shapefile': 'raw',\n",
       " 'FlatGeobuf': 'raw',\n",
       " 'GeoJSON': 'raw',\n",
       " 'GeoJSONSeq': 'raw',\n",
       " 'GPKG': 'raw',\n",
       " 'GML': 'rw',\n",
       " 'OGR_GMT': 'rw',\n",
       " 'GPX': 'rw',\n",
       " 'Idrisi': 'r',\n",
       " 'MapInfo File': 'raw',\n",
       " 'DGN': 'raw',\n",
       " 'PCIDSK': 'raw',\n",
       " 'OGR_PDS': 'r',\n",
       " 'S57': 'r',\n",
       " 'SQLite': 'raw',\n",
       " 'TopoJSON': 'r'}"
      ]
     },
     "execution_count": 1,
     "metadata": {},
     "output_type": "execute_result"
    }
   ],
   "source": [
    "import fiona; fiona.supported_drivers"
   ]
  },
  {
   "cell_type": "markdown",
   "id": "943c6fc3-1fd6-4487-b9aa-3e4c7a81f01d",
   "metadata": {},
   "source": [
    "### `Geopandas` Uses [Simple Feature Access](https://www.ogc.org/standard/sfa/)\n",
    "**Vector** geometry with `Geopandas` and `Shapely`. Just as we saw with `sf` in R, `geopandas` uses Simple Feature Access standard for storing vector geometry.\n",
    "\n",
    "As decribed in the [Geopandas documentation](https://geopandas.org/en/stable/docs/user_guide/data_structures.html), `Geopandas` has two main data structures much like `sf` in R, `Geoseries` and `GeoDataFrame` - they are subcasses of `pandas.Series` and `pandas.DataFrame`.\n",
    "\n",
    "A GeoSeries is a vector where each entry in the vector is a set of shapes corresponding to one observation.  As we mentioned above, with the `Simple Features` specification the `Geopandas` uses we have three main types of geometries:\n",
    "* `Point` /  `Multipoint`\n",
    "* `LineString` / `MultiLineString`\n",
    "* `Polygon` / `MultiPolygon`\n",
    "\n",
    "#### `Shapely` attributes and methods\n",
    "We can use most [attributes and methods](https://shapely.readthedocs.io/en/stable/manual.html) for `Shapely` objects in the `Geopandas` `Geoseries` class.\n",
    "\n",
    "This is a reiteration of material found in the [Geopandas user guide](https://geopandas.org/en/stable/docs/user_guide/data_structures.html) but just to highlight here:\n",
    "\n",
    "**Attributes**\n",
    "*area*: shape area (units of projection – see projections)\n",
    "\n",
    "*bounds*: tuple of max and min coordinates on each axis for each shape\n",
    "\n",
    "*total_bounds*: tuple of max and min coordinates on each axis for entire GeoSeries\n",
    "\n",
    "*geom_type*: type of geometry.\n",
    "\n",
    "*is_valid*: tests if coordinates make a shape that is reasonable geometric shape according to the Simple Feature Access standard.\n",
    "\n",
    "*make_valid*: repairs invalid geometries.\n",
    "\n",
    "**Methods**\n",
    "*distance()*: returns Series with minimum distance from each entry to other\n",
    "\n",
    "*centroid*: returns GeoSeries of centroids\n",
    "\n",
    "*representative_point()*: returns GeoSeries of points that are guaranteed to be within each geometry - doesn'y return centroids.\n",
    "\n",
    "*to_crs()*: change coordinate reference system\n",
    "\n",
    "*plot()*: plot a GeoSeries\n",
    "\n",
    "**Relationship tests**\n",
    "*geom_almost_equals()*: is shape almost the same as other (good when floating point precision issues make shapes slightly different)\n",
    "\n",
    "*contains()*: is shape contained within other\n",
    "\n",
    "*intersects()*: does shape intersect other\n",
    "\n",
    "**GeoDataFrames**\n",
    "A `GeoDataFrame` always has a `GeoSeries` column that contains the `GeoDataFrame`s geometry"
   ]
  },
  {
   "cell_type": "code",
   "execution_count": 6,
   "id": "25d5f3d7-285c-4c90-a080-aed04a476a33",
   "metadata": {},
   "outputs": [],
   "source": [
    "import geopandas as gp\n",
    "import pygeohydro as gh"
   ]
  },
  {
   "cell_type": "code",
   "execution_count": null,
   "id": "0dc2f53b-b5db-4063-862b-11d1fd0e7ea7",
   "metadata": {},
   "outputs": [],
   "source": []
  },
  {
   "cell_type": "code",
   "execution_count": 8,
   "id": "155d088a-dfee-4da5-bce3-a1a2bde16c15",
   "metadata": {},
   "outputs": [
    {
     "data": {
      "text/plain": [
       "<Axes: >"
      ]
     },
     "execution_count": 8,
     "metadata": {},
     "output_type": "execute_result"
    },
    {
     "data": {
      "image/png": "[encoded data removed]",
      "text/plain": [
       "<Figure size 640x480 with 1 Axes>"
      ]
     },
     "metadata": {},
     "output_type": "display_data"
    }
   ],
   "source": [
    "states = gh.get_us_states(\"contiguous\")\n",
    "oregon = states[states.STUSPS == \"OR\"]\n",
    "oregon.plot()"
   ]
  },
  {
   "cell_type": "markdown",
   "id": "e247d1ac-58b3-4810-8f57-89182d8c73f5",
   "metadata": {},
   "source": [
    "What is the name of our data frame column that stores geometry?"
   ]
  },
  {
   "cell_type": "code",
   "execution_count": 15,
   "id": "6f1519d5-9173-4ef2-b9b2-4b9633eb1f32",
   "metadata": {},
   "outputs": [
    {
     "data": {
      "text/plain": [
       "'geometry'"
      ]
     },
     "execution_count": 15,
     "metadata": {},
     "output_type": "execute_result"
    }
   ],
   "source": [
    "oregon.geometry.name"
   ]
  },
  {
   "cell_type": "markdown",
   "id": "8b943dc1-9499-4758-9c37-c4ebe5cc9c40",
   "metadata": {},
   "source": [
    "Check if our geometry is valid:"
   ]
  },
  {
   "cell_type": "code",
   "execution_count": 13,
   "id": "d3664aa4-67f4-4aa2-a42e-b3d50b550152",
   "metadata": {},
   "outputs": [
    {
     "data": {
      "text/plain": [
       "<bound method GeoPandasBase.make_valid of 16    POLYGON ((-121.44123 45.69728, -121.42442 45.6...\n",
       "Name: geometry, dtype: geometry>"
      ]
     },
     "execution_count": 13,
     "metadata": {},
     "output_type": "execute_result"
    }
   ],
   "source": [
    "oregon['geometry'].is_valid"
   ]
  },
  {
   "cell_type": "markdown",
   "id": "a141486b-8adb-4ebd-b8f2-1e3747dc4ffe",
   "metadata": {},
   "source": [
    "Here we're throwing in a little extra twist using [geoconnex](https://geoconnex.internetofwater.dev/) to access US counties and get counties for Oregon.  [Geoconnex](https://geoconnex.internetofwater.dev/) is a web service developed by Internet Of Water that provides access to a number of hydro-linked datasets and [PyNHD](https://docs.hyriver.io/examples/notebooks/geoconnex.html) provides access to all GeoConnex endpoints."
   ]
  },
  {
   "cell_type": "code",
   "execution_count": 17,
   "id": "b1a03ec3-cfec-4cea-970a-6eb93d1d9aca",
   "metadata": {},
   "outputs": [
    {
     "name": "stdout",
     "output_type": "stream",
     "text": [
      "hu02: Two-digit Hydrologic Regions\n",
      "hu04: Four-digit Hydrologic Subregion\n",
      "hu06: Six-digit Hydrologic Basins\n",
      "hu08: Eight-digit Hydrologic Subbasins\n",
      "hu10: Ten-digit Watersheds\n",
      "nat_aq: National Aquifers of the United States from USGS National Water Information System National Aquifer code list.\n",
      "principal_aq: Principal Aquifers of the United States from 2003 USGS data release\n",
      "sec_hydrg_reg: Secondary Hydrogeologic Regions of the Conterminous United States from 2018 USGS data release\n",
      "gages: US Reference Stream Gage Monitoring Locations\n",
      "mainstems: US Reference Mainstem Rivers\n",
      "states: U.S. States\n",
      "counties: U.S. Counties\n",
      "aiannh: Native American Lands\n",
      "cbsa: U.S. Metropolitan and Micropolitan Statistical Areas\n",
      "ua10: Urbanized Areas and Urban Clusters (2010 Census)\n",
      "places: U.S. legally incorporated and Census designated places\n",
      "pws: U.S. Public Water Systems\n",
      "dams: US Reference Dams\n"
     ]
    }
   ],
   "source": [
    "from pynhd import GeoConnex\n",
    "gcx = GeoConnex(dev=False)\n",
    "print(\"\\n\".join(f\"{n}: {e.description}\" for n, e in gcx.endpoints.items()))"
   ]
  },
  {
   "cell_type": "markdown",
   "id": "4466a3ed-1550-44c2-a22b-1d7467629aec",
   "metadata": {},
   "source": [
    "We can get a bit of information on how we can query an endpoint using `.item`:"
   ]
  },
  {
   "cell_type": "code",
   "execution_count": 19,
   "id": "301b480f-762f-4306-b3fb-5ef178326a3c",
   "metadata": {},
   "outputs": [
    {
     "data": {
      "text/plain": [
       "Item: 'counties'\n",
       "Description: U.S. Counties\n",
       "Queryable Fields: fid, uri, statefp, countyfp, countyns, affgeoid, geoid, name, lsad, census_profile\n",
       "Extent: (-170, 15, -51, 72)"
      ]
     },
     "execution_count": 19,
     "metadata": {},
     "output_type": "execute_result"
    }
   ],
   "source": [
    "gcx.item = \"counties\"\n",
    "gcx"
   ]
  },
  {
   "cell_type": "markdown",
   "id": "018e3fcc-a8bf-4ab3-815d-8348a00a16ff",
   "metadata": {},
   "source": [
    "We want counties in Oregon so we should query `statefp` and use Oregon's FIPs code of `41` as the value"
   ]
  },
  {
   "cell_type": "code",
   "execution_count": 52,
   "id": "6cbbdaeb-059c-4800-9959-a8e58afca1f2",
   "metadata": {},
   "outputs": [
    {
     "data": {
      "image/png": "[encoded data removed]",
      "text/plain": [
       "<Figure size 600x600 with 1 Axes>"
      ]
     },
     "metadata": {},
     "output_type": "display_data"
    }
   ],
   "source": [
    "or_counties = gcx.byid(\"statefp\", \"41\")\n",
    "ax = or_counties.plot(figsize=(6, 6))\n",
    "ax.set_axis_off()"
   ]
  },
  {
   "cell_type": "markdown",
   "id": "9cdec544-30bf-439c-9e91-baf960e927d6",
   "metadata": {},
   "source": [
    "We can create centroids *and* make the centroids the geometry"
   ]
  },
  {
   "cell_type": "markdown",
   "id": "28a64cc7-f8dd-4ebe-8ae8-7ed2b11be233",
   "metadata": {},
   "source": [
    "Why doesn't this work?  Take a minute before looking below at answer!"
   ]
  },
  {
   "cell_type": "markdown",
   "id": "dac6c8fb-4be2-4d3f-aaca-8cb082652d66",
   "metadata": {},
   "source": [
    "That doesn't work either.  Why??"
   ]
  },
  {
   "cell_type": "code",
   "execution_count": 55,
   "id": "fc40c53c-e3b7-4b68-aba0-7c2d658924be",
   "metadata": {},
   "outputs": [],
   "source": [
    "or_counties_exploded = or_counties_exploded.explode(column='geometry', ignore_index=True, index_parts=False)"
   ]
  },
  {
   "cell_type": "code",
   "execution_count": 57,
   "id": "e143650b-ad6e-4b79-8bc2-d645706fa593",
   "metadata": {},
   "outputs": [
    {
     "data": {
      "text/html": [
       "<div>\n",
       "<style scoped>\n",
       "    .dataframe tbody tr th:only-of-type {\n",
       "        vertical-align: middle;\n",
       "    }\n",
       "\n",
       "    .dataframe tbody tr th {\n",
       "        vertical-align: top;\n",
       "    }\n",
       "\n",
       "    .dataframe thead th {\n",
       "        text-align: right;\n",
       "    }\n",
       "</style>\n",
       "<table border=\"1\" class=\"dataframe\">\n",
       "  <thead>\n",
       "    <tr style=\"text-align: right;\">\n",
       "      <th></th>\n",
       "      <th>countyns</th>\n",
       "      <th>fid</th>\n",
       "      <th>uri</th>\n",
       "      <th>countyfp</th>\n",
       "      <th>affgeoid</th>\n",
       "      <th>name</th>\n",
       "      <th>census_profile</th>\n",
       "      <th>statefp</th>\n",
       "      <th>lsad</th>\n",
       "      <th>geometry</th>\n",
       "    </tr>\n",
       "  </thead>\n",
       "  <tbody>\n",
       "    <tr>\n",
       "      <th>0</th>\n",
       "      <td>01135845</td>\n",
       "      <td>1237</td>\n",
       "      <td>https://geoconnex.us/ref/counties/41001</td>\n",
       "      <td>001</td>\n",
       "      <td>0500000US41001</td>\n",
       "      <td>Baker</td>\n",
       "      <td>https://data.census.gov/cedsci/profile?g=05000...</td>\n",
       "      <td>41</td>\n",
       "      <td>06</td>\n",
       "      <td>POLYGON ((-118.51944 44.70588, -118.51818 44.7...</td>\n",
       "    </tr>\n",
       "    <tr>\n",
       "      <th>1</th>\n",
       "      <td>01155126</td>\n",
       "      <td>247</td>\n",
       "      <td>https://geoconnex.us/ref/counties/41003</td>\n",
       "      <td>003</td>\n",
       "      <td>0500000US41003</td>\n",
       "      <td>Benton</td>\n",
       "      <td>https://data.census.gov/cedsci/profile?g=05000...</td>\n",
       "      <td>41</td>\n",
       "      <td>06</td>\n",
       "      <td>POLYGON ((-123.81670 44.34461, -123.77660 44.3...</td>\n",
       "    </tr>\n",
       "    <tr>\n",
       "      <th>2</th>\n",
       "      <td>01155127</td>\n",
       "      <td>3150</td>\n",
       "      <td>https://geoconnex.us/ref/counties/41005</td>\n",
       "      <td>005</td>\n",
       "      <td>0500000US41005</td>\n",
       "      <td>Clackamas</td>\n",
       "      <td>https://data.census.gov/cedsci/profile?g=05000...</td>\n",
       "      <td>41</td>\n",
       "      <td>06</td>\n",
       "      <td>POLYGON ((-122.86789 45.31734, -122.85717 45.3...</td>\n",
       "    </tr>\n",
       "    <tr>\n",
       "      <th>3</th>\n",
       "      <td>01135846</td>\n",
       "      <td>384</td>\n",
       "      <td>https://geoconnex.us/ref/counties/41007</td>\n",
       "      <td>007</td>\n",
       "      <td>0500000US41007</td>\n",
       "      <td>Clatsop</td>\n",
       "      <td>https://data.census.gov/cedsci/profile?g=05000...</td>\n",
       "      <td>41</td>\n",
       "      <td>06</td>\n",
       "      <td>POLYGON ((-123.59892 46.25145, -123.59842 46.2...</td>\n",
       "    </tr>\n",
       "    <tr>\n",
       "      <th>4</th>\n",
       "      <td>01135846</td>\n",
       "      <td>384</td>\n",
       "      <td>https://geoconnex.us/ref/counties/41007</td>\n",
       "      <td>007</td>\n",
       "      <td>0500000US41007</td>\n",
       "      <td>Clatsop</td>\n",
       "      <td>https://data.census.gov/cedsci/profile?g=05000...</td>\n",
       "      <td>41</td>\n",
       "      <td>06</td>\n",
       "      <td>POLYGON ((-123.66614 46.24501, -123.66529 46.2...</td>\n",
       "    </tr>\n",
       "  </tbody>\n",
       "</table>\n",
       "</div>"
      ],
      "text/plain": [
       "   countyns   fid                                      uri countyfp  \\\n",
       "0  01135845  1237  https://geoconnex.us/ref/counties/41001      001   \n",
       "1  01155126   247  https://geoconnex.us/ref/counties/41003      003   \n",
       "2  01155127  3150  https://geoconnex.us/ref/counties/41005      005   \n",
       "3  01135846   384  https://geoconnex.us/ref/counties/41007      007   \n",
       "4  01135846   384  https://geoconnex.us/ref/counties/41007      007   \n",
       "\n",
       "         affgeoid       name  \\\n",
       "0  0500000US41001      Baker   \n",
       "1  0500000US41003     Benton   \n",
       "2  0500000US41005  Clackamas   \n",
       "3  0500000US41007    Clatsop   \n",
       "4  0500000US41007    Clatsop   \n",
       "\n",
       "                                      census_profile statefp lsad  \\\n",
       "0  https://data.census.gov/cedsci/profile?g=05000...      41   06   \n",
       "1  https://data.census.gov/cedsci/profile?g=05000...      41   06   \n",
       "2  https://data.census.gov/cedsci/profile?g=05000...      41   06   \n",
       "3  https://data.census.gov/cedsci/profile?g=05000...      41   06   \n",
       "4  https://data.census.gov/cedsci/profile?g=05000...      41   06   \n",
       "\n",
       "                                            geometry  \n",
       "0  POLYGON ((-118.51944 44.70588, -118.51818 44.7...  \n",
       "1  POLYGON ((-123.81670 44.34461, -123.77660 44.3...  \n",
       "2  POLYGON ((-122.86789 45.31734, -122.85717 45.3...  \n",
       "3  POLYGON ((-123.59892 46.25145, -123.59842 46.2...  \n",
       "4  POLYGON ((-123.66614 46.24501, -123.66529 46.2...  "
      ]
     },
     "execution_count": 57,
     "metadata": {},
     "output_type": "execute_result"
    }
   ],
   "source": [
    "or_counties_exploded.head()"
   ]
  },
  {
   "cell_type": "code",
   "execution_count": 59,
   "id": "3f642d1f-d9ca-49bd-a014-e2b62f2e81ce",
   "metadata": {},
   "outputs": [
    {
     "data": {
      "text/plain": [
       "<Axes: >"
      ]
     },
     "execution_count": 59,
     "metadata": {},
     "output_type": "execute_result"
    },
    {
     "data": {
      "image/png": "[encoded data removed]",
      "text/plain": [
       "<Figure size 640x480 with 1 Axes>"
      ]
     },
     "metadata": {},
     "output_type": "display_data"
    }
   ],
   "source": [
    "or_counties_exploded = or_counties_exploded.to_crs(epsg=32610)\n",
    "pts = or_counties_exploded['geometry'].centroid\n",
    "pts.plot()"
   ]
  },
  {
   "cell_type": "markdown",
   "id": "e99f8d9b-5f13-4531-a105-f3ff7741858e",
   "metadata": {},
   "source": [
    "### Raster Data in Python\n",
    "We can see see the list of supported drivers for raster data available through GDAL:"
   ]
  },
  {
   "cell_type": "code",
   "execution_count": 3,
   "id": "63ef8cd8-008d-4052-9947-8db7a45496c7",
   "metadata": {},
   "outputs": [],
   "source": [
    "from osgeo import gdal\n",
    "all_driver_names = [gdal.GetDriver(i).GetDescription() for i in range(gdal.GetDriverCount())] \n",
    "gdal_driver_names = [driver_name for driver_name in all_driver_names if gdal.GetDriverByName(driver_name).GetMetadataItem('DCAP_RASTER') == 'YES']\n"
   ]
  },
  {
   "cell_type": "code",
   "execution_count": 4,
   "id": "80fd0714-c9f4-4eb6-95f9-d44dcda544d6",
   "metadata": {},
   "outputs": [
    {
     "data": {
      "text/plain": [
       "['VRT',\n",
       " 'DERIVED',\n",
       " 'GTiff',\n",
       " 'COG',\n",
       " 'NITF',\n",
       " 'RPFTOC',\n",
       " 'ECRGTOC',\n",
       " 'HFA',\n",
       " 'SAR_CEOS',\n",
       " 'CEOS']"
      ]
     },
     "execution_count": 4,
     "metadata": {},
     "output_type": "execute_result"
    }
   ],
   "source": [
    "gdal_driver_names[0:10]"
   ]
  },
  {
   "cell_type": "code",
   "execution_count": 18,
   "id": "40f006a1-8384-4894-af57-dd41e7a3887f",
   "metadata": {},
   "outputs": [
    {
     "data": {
      "text/plain": [
       "145"
      ]
     },
     "execution_count": 18,
     "metadata": {},
     "output_type": "execute_result"
    }
   ],
   "source": [
    "len(gdal_driver_names)"
   ]
  },
  {
   "cell_type": "markdown",
   "id": "e75ced99-3b23-4dcb-9f46-55c178ca320b",
   "metadata": {},
   "source": [
    "## Web APIs\n",
    "\n",
    "API allows one program to talk to another program and services provided by an API allow you to query for information in an automated way.\n",
    "\n",
    "APIs are incredibly useful for mapping and spatial analysis and allow you to query web servers and get results without downloading data or running computation on your machine.\n",
    "\n",
    "Sommon use cases for using APIs for spatial analysis are\n",
    "\n",
    "Getting directions / routing\n",
    "Route optimization\n",
    "Geocoding\n",
    "Downloading data\n",
    "Getting real-time weather data\n"
   ]
  },
  {
   "cell_type": "markdown",
   "id": "3a0bace0-991f-48aa-905c-f85565c70cc0",
   "metadata": {},
   "source": [
    "### JSON, GeoJSON\n",
    "\n",
    "JSON stands for JavaScript Object Notation. It's used for storing and transporting data and is the de-facto standard for data exchanged by APIs. GeoJSON is an extension of the JSON format that is commonly used to represent spatial data.\n",
    "\n",
    "Python has a built-in json module that has methods for reading json data and converting it to Python objects, and vice-versa. \n",
    "\n",
    "The GeoJSON data contains features, where each feature has some properties and a geometry."
   ]
  },
  {
   "cell_type": "code",
   "execution_count": 3,
   "id": "3fe14cde-6a8a-4241-ad91-5f3a20d5d3c2",
   "metadata": {},
   "outputs": [
    {
     "name": "stdout",
     "output_type": "stream",
     "text": [
      "\n",
      "{\n",
      "  \"type\": \"FeatureCollection\",\n",
      "  \"features\": [\n",
      "    {\"type\": \"Feature\",\n",
      "      \"properties\": {\"name\": \"Corvallis\"},\n",
      "      \"geometry\": {\"type\": \"Point\", \"coordinates\": [-123.2620, 44.5646]}\n",
      "    }\n",
      "  ]\n",
      "}\n",
      "\n"
     ]
    }
   ],
   "source": [
    "geojson_string = '''\n",
    "{\n",
    "  \"type\": \"FeatureCollection\",\n",
    "  \"features\": [\n",
    "    {\"type\": \"Feature\",\n",
    "      \"properties\": {\"name\": \"Corvallis\"},\n",
    "      \"geometry\": {\"type\": \"Point\", \"coordinates\": [-123.2620, 44.5646]}\n",
    "    }\n",
    "  ]\n",
    "}\n",
    "'''\n",
    "print(geojson_string)"
   ]
  },
  {
   "cell_type": "markdown",
   "id": "a470d956-fae9-4ef8-a697-ec47b5d47c7e",
   "metadata": {},
   "source": [
    "We can convert this JSON string to a Python object (i.e. parsing JSON) using the json.loads() method. This converts our JSON string to a Python dictionary."
   ]
  },
  {
   "cell_type": "code",
   "execution_count": 4,
   "id": "9b55f0c2-d387-4a77-a8cf-c8f9d1886c0e",
   "metadata": {},
   "outputs": [
    {
     "name": "stdout",
     "output_type": "stream",
     "text": [
      "<class 'dict'>\n",
      "{'type': 'FeatureCollection', 'features': [{'type': 'Feature', 'properties': {'name': 'Corvallis'}, 'geometry': {'type': 'Point', 'coordinates': [-123.262, 44.5646]}}]}\n"
     ]
    }
   ],
   "source": [
    "import json\n",
    "\n",
    "data = json.loads(geojson_string)\n",
    "print(type(data))\n",
    "print(data)"
   ]
  },
  {
   "cell_type": "markdown",
   "id": "26db55d4-2568-4b9e-a1a4-a62097a8c2b8",
   "metadata": {},
   "source": [
    "With the parsed GeoJSON string we have a Python dictionary we can more easily extract infromation from. The data is stored as a FeatureCollection in the dictionary. In this toy example, we have just 1 feature inside the feature collection, so we can access it by using index 0."
   ]
  },
  {
   "cell_type": "code",
   "execution_count": 5,
   "id": "93fbe818-a0e0-40e6-9728-c7987867e3c3",
   "metadata": {},
   "outputs": [
    {
     "name": "stdout",
     "output_type": "stream",
     "text": [
      "{'type': 'Feature', 'properties': {'name': 'Corvallis'}, 'geometry': {'type': 'Point', 'coordinates': [-123.262, 44.5646]}}\n"
     ]
    }
   ],
   "source": [
    "city_data = data['features'][0]\n",
    "print(city_data)"
   ]
  },
  {
   "cell_type": "markdown",
   "id": "94b3062e-9346-4b4f-8e15-e08741ed97d3",
   "metadata": {},
   "source": [
    "Since the feature representation is a dictionary we can access individual items using `keys`"
   ]
  },
  {
   "cell_type": "code",
   "execution_count": 8,
   "id": "06df844d-7812-4e48-8b29-de18df6d09a6",
   "metadata": {},
   "outputs": [
    {
     "name": "stdout",
     "output_type": "stream",
     "text": [
      "Corvallis [-123.262, 44.5646]\n"
     ]
    }
   ],
   "source": [
    "city_name = city_data['properties']['name']\n",
    "city_coordinates = city_data['geometry']['coordinates']\n",
    "print(city_name, city_coordinates)"
   ]
  },
  {
   "cell_type": "markdown",
   "id": "23581b78-20da-4831-ba67-fe870eb90065",
   "metadata": {},
   "source": [
    "## The `requests` module"
   ]
  },
  {
   "cell_type": "code",
   "execution_count": 8,
   "id": "958b98b1-2209-4562-a472-423110060719",
   "metadata": {},
   "outputs": [
    {
     "name": "stdout",
     "output_type": "stream",
     "text": [
      "200\n"
     ]
    }
   ],
   "source": [
    "import requests\n",
    "\n",
    "response = requests.get(\"https://api.github.com\")\n",
    "\n",
    "print(response.status_code)\n"
   ]
  },
  {
   "cell_type": "markdown",
   "id": "88984747-f940-4a36-bc3b-7b44812dc87b",
   "metadata": {},
   "source": [
    "Similar to what we did in R, we can customize a GET request by passing values through query string parameters in the URL."
   ]
  },
  {
   "cell_type": "code",
   "execution_count": 9,
   "id": "fff3d018-182f-4856-80f4-a9760dff1ffe",
   "metadata": {},
   "outputs": [
    {
     "name": "stdout",
     "output_type": "stream",
     "text": [
      "200\n"
     ]
    }
   ],
   "source": [
    "import requests\n",
    "\n",
    "# Search GitHub's repositories for `StreamCatTools`\n",
    "response = requests.get(\n",
    "    'https://api.github.com/search/repositories',\n",
    "    params={'q': 'StreamCatTools'},\n",
    ")\n",
    "\n",
    "print(response.status_code)"
   ]
  },
  {
   "cell_type": "markdown",
   "id": "210d489c-773b-4da7-ae89-e3e9fb38c893",
   "metadata": {},
   "source": [
    "Inspect some attributes of the `StreamCatTools` repository"
   ]
  },
  {
   "cell_type": "code",
   "execution_count": 10,
   "id": "20ae19d8-b53d-4edf-9134-72d593c61435",
   "metadata": {},
   "outputs": [
    {
     "name": "stdout",
     "output_type": "stream",
     "text": [
      "Repository name: StreamCatTools\n",
      "Repository description: R package to work with the StreamCat API within R and access the full suite of StreamCat catchment and waterhsed scale metrics for all NHDPlusV2 stream reaches and catchments.\n"
     ]
    }
   ],
   "source": [
    "json_response = response.json()\n",
    "repository = json_response['items'][0]\n",
    "print(f'Repository name: {repository[\"name\"]}')  \n",
    "print(f'Repository description: {repository[\"description\"]}')  "
   ]
  },
  {
   "cell_type": "code",
   "execution_count": null,
   "id": "e0845868-10ee-4501-b238-78318f961e31",
   "metadata": {},
   "outputs": [],
   "source": []
  }
 ],
 "metadata": {
  "kernelspec": {
   "display_name": "Python 3 (ipykernel)",
   "language": "python",
   "name": "python3"
  },
  "language_info": {
   "codemirror_mode": {
    "name": "ipython",
    "version": 3
   },
   "file_extension": ".py",
   "mimetype": "text/x-python",
   "name": "python",
   "nbconvert_exporter": "python",
   "pygments_lexer": "ipython3",
   "version": "3.11.3"
  }
 },
 "nbformat": 4,
 "nbformat_minor": 5
}
