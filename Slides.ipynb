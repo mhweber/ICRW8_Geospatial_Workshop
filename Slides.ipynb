{
 "cells": [
  {
   "cell_type": "markdown",
   "id": "c636b133-3ce4-4db5-a6f7-e45b68f73777",
   "metadata": {},
   "source": [
    "## Spatial Data Structures\n",
    "As we discussed, spatial data structures in modern Python implementation, as with R, rely on core libraries under the hood.\n",
    "\n",
    "These libraries include: \n",
    "\n",
    "  - **PROJ** --> projections, transformations  \n",
    "  \n",
    "  - **GEOS** --> Geometry operations (measures, relations)\n",
    "  \n",
    "  - **GDAL** --> geodata abstraction and processing (read, write)\n",
    "  \n",
    "As in R and elsewhere with spatial data, we have two main data models for spatial data that define how our conceptual model of elements of data are organized:\n",
    "- *vector data model*:  points, lines and areas\n",
    "- *raster data model*: a grid-like structure that holds values for each grid cell\n",
    "\n",
    "We also have *extensions* of these data models with:\n",
    "- *spatio-temporal data model*: A data model that incorporates time (t) as an additional dimension to the geographical dimension (x, y)\n",
    "- *topological data model*: A data model that *integrates* vector data so that topological relationships are incorporated into the core model, e.g. street networks (shortest routes) and for us, river networks - upstream / downstream relationships\n",
    "\n",
    "We apply different sets of spatial tools for different kinds of operations depending on the data model we're working with.\n",
    "\n",
    "**Vector Geometry Types**\n",
    "As we saw in R, our basic vector geometry types are defined with the [Simple Features Access Specification](https://www.ogc.org/standards/) - these types are `Point`, `LineString`, `Polygon`, and the collections types of `Multipoint`, `MultiLineString`, and `MultiPolygon`.\n",
    "\n",
    "Just as we showed previously, these geometries use either `WKT` or `WKB` specifications in a list-column to repesent vector data features.\n",
    "\n",
    "**Raster Data Type**\n",
    "\n",
    "In the raster data model data is represented as arrays of cells (pixels) to represent real-world objects or continuous phenomena. Photos with a digital camera are essentially raster data (without spatial reference though) that capture RGB colors and store as pixels in separate layers (or bands or channels). \n",
    "\n",
    "Aspects of the raster data model include:\n",
    "- *spatial resolution*: The size in real world units of the a cell\n",
    "- *continuous or discrete* do the cells represent continuous information like soil type or geology or discrete information like land cover classification?\n",
    "- *bit depth*: The range of values the raster can hold\n",
    "\n",
    "\n",
    "![_ Raster data model ](../img/raster_data_model.jpg)\n",
    "\n",
    "_Figure 1. Raster data model from [Python for Geographic Data Analysis Chapter 5](https://pythongis.org/part2/chapter-05/nb/01-introduction-to-geographic-data-in-python.html)_\n",
    "\n",
    "\n",
    "![_**Figure 2**. Examples of raster bit depths._](../img/raster_bit_depths.jpg)\n",
    "\n",
    "_Figure 2. Raster data model from [Python for Geographic Data Analysis Chapter 5](https://pythongis.org/part2/chapter-05/nb/01-introduction-to-geographic-data-in-python.html)_\n",
    "\n",
    "**Raster data formats**\n",
    "\n",
    "Raster data comes in a wide variety of formats but a few of the most common are:\n",
    "\n",
    "- **GeoTIFF**: An popen, non-proprietary raster data format based on the `TIFF format` originally developed at NASA in the early 90's. Portable and platform independent. The file extension of GeoTIFF is `.tif`. \n",
    "- **COG**: A Cloud Optimized GeoTIFF (COG) is a file format based on GeoTIFF. COG files are typically hosted on HTTP file servers. The format can enable more efficient workflows with large data files by leveraging the ability of users to *retrieve just the parts of the file that they need*, instead of downloading the whole file every time. The file extension of COG is `.tif` (i.e. the same as with GeoTIFF). \n",
    "- **NetCDF**: Network Common Data Form (NetCDF) is a portable, self-describing and scalable file format for storing array-oriented multidimensional scientific data, commonly used for storing earch science data. Variables stored in NetCDF are often measured multiple times per day (i.e.. temporal) over large (e.g. continental) areas. The file extension of NetCDF is `.nc4`. \n",
    "- **ASCII Grid**: The ASCII Raster File format is a simple format that can be used to transfer raster data between various applications. The file format was originally developed by ESRI and it is also known as Arc/Info ASCII grid. The file extension of ASCII Raster File is `.asc`. \n",
    "- **IMG**: The ERDAS Imagine file format (IMG) is proprietary file format that was originally created by an image processing software company called ERDAS. The file can be accompanied with an .xml file which stores metadata information about the raster layer. The file extension of Imagine file format is `.img`.\n",
    "\n",
    "**Network Data Model**\n",
    "See [this section in Python for Geographic Data Analysis](https://pythongis.org/part2/chapter-05/nb/01-introduction-to-geographic-data-in-python.html#representing-spatial-networks) for a nice treatment of the network data model."
   ]
  },
  {
   "cell_type": "markdown",
   "id": "eb4cff5c-d077-46a7-affa-ed8457b56b3d",
   "metadata": {},
   "source": [
    "### Vector Data in Python\n",
    "We can see see the list of supported drivers for vector data available through GDAL and exposesed by the `Fiona` library:"
   ]
  },
  {
   "cell_type": "code",
   "execution_count": 1,
   "id": "8cbc0591-0885-4bc3-850a-f9d7825b5b42",
   "metadata": {},
   "outputs": [
    {
     "data": {
      "text/plain": [
       "{'DXF': 'rw',\n",
       " 'CSV': 'raw',\n",
       " 'OpenFileGDB': 'raw',\n",
       " 'ESRIJSON': 'r',\n",
       " 'ESRI Shapefile': 'raw',\n",
       " 'FlatGeobuf': 'raw',\n",
       " 'GeoJSON': 'raw',\n",
       " 'GeoJSONSeq': 'raw',\n",
       " 'GPKG': 'raw',\n",
       " 'GML': 'rw',\n",
       " 'OGR_GMT': 'rw',\n",
       " 'GPX': 'rw',\n",
       " 'Idrisi': 'r',\n",
       " 'MapInfo File': 'raw',\n",
       " 'DGN': 'raw',\n",
       " 'PCIDSK': 'raw',\n",
       " 'OGR_PDS': 'r',\n",
       " 'S57': 'r',\n",
       " 'SQLite': 'raw',\n",
       " 'TopoJSON': 'r'}"
      ]
     },
     "execution_count": 1,
     "metadata": {},
     "output_type": "execute_result"
    }
   ],
   "source": [
    "import fiona; fiona.supported_drivers"
   ]
  },
  {
   "cell_type": "markdown",
   "id": "943c6fc3-1fd6-4487-b9aa-3e4c7a81f01d",
   "metadata": {},
   "source": [
    "### `Geopandas` Uses [Simple Feature Access](https://www.ogc.org/standard/sfa/)\n",
    "Just as we saw with `sf` in R, `geopandas` uses Simple Feature Access standard for storing vector geometry"
   ]
  },
  {
   "cell_type": "code",
   "execution_count": 2,
   "id": "25d5f3d7-285c-4c90-a080-aed04a476a33",
   "metadata": {},
   "outputs": [
    {
     "name": "stderr",
     "output_type": "stream",
     "text": [
      "C:\\Users\\mweber\\AppData\\Local\\miniforge3\\envs\\test\\lib\\site-packages\\geopandas\\_compat.py:124: UserWarning: The Shapely GEOS version (3.8.0-CAPI-1.13.1 ) is incompatible with the GEOS version PyGEOS was compiled with (3.10.4-CAPI-1.16.2). Conversions between both will be slow.\n",
      "  warnings.warn(\n"
     ]
    },
    {
     "data": {
      "text/plain": [
       "['naturalearth_cities', 'naturalearth_lowres', 'nybb']"
      ]
     },
     "execution_count": 2,
     "metadata": {},
     "output_type": "execute_result"
    }
   ],
   "source": [
    "import geopandas as gp\n",
    "gp.datasets.available"
   ]
  },
  {
   "cell_type": "code",
   "execution_count": 2,
   "id": "155d088a-dfee-4da5-bce3-a1a2bde16c15",
   "metadata": {},
   "outputs": [
    {
     "name": "stderr",
     "output_type": "stream",
     "text": [
      "C:\\Users\\mweber\\AppData\\Local\\Temp\\ipykernel_15588\\1477237742.py:1: FutureWarning: The geopandas.dataset module is deprecated and will be removed in GeoPandas 1.0. You can get the original 'naturalearth_lowres' data from https://www.naturalearthdata.com/downloads/110m-cultural-vectors/.\n",
      "  world = gp.read_file(gp.datasets.get_path('naturalearth_lowres'))\n"
     ]
    },
    {
     "data": {
      "image/png": "[encoded data removed]",
      "text/plain": [
       "<Figure size 640x480 with 1 Axes>"
      ]
     },
     "metadata": {},
     "output_type": "display_data"
    }
   ],
   "source": [
    "world = gp.read_file(gp.datasets.get_path('naturalearth_lowres'))\n",
    "# Subsets the GeoDataFrame\n",
    "usa = world[world.name == \"United States of America\"]\n",
    "# Plots\n",
    "world.plot();"
   ]
  },
  {
   "cell_type": "markdown",
   "id": "e99f8d9b-5f13-4531-a105-f3ff7741858e",
   "metadata": {},
   "source": [
    "### Raster Data in Python\n",
    "We can see see the list of supported drivers for raster data available through GDAL:"
   ]
  },
  {
   "cell_type": "code",
   "execution_count": 16,
   "id": "63ef8cd8-008d-4052-9947-8db7a45496c7",
   "metadata": {},
   "outputs": [],
   "source": [
    "from osgeo import gdal\n",
    "all_driver_names = [gdal.GetDriver(i).GetDescription() for i in range(gdal.GetDriverCount())] \n",
    "gdal_driver_names = [driver_name for driver_name in all_driver_names if gdal.GetDriverByName(driver_name).GetMetadataItem('DCAP_RASTER') == 'YES']\n"
   ]
  },
  {
   "cell_type": "code",
   "execution_count": 17,
   "id": "80fd0714-c9f4-4eb6-95f9-d44dcda544d6",
   "metadata": {},
   "outputs": [
    {
     "data": {
      "text/plain": [
       "['VRT',\n",
       " 'DERIVED',\n",
       " 'GTiff',\n",
       " 'COG',\n",
       " 'NITF',\n",
       " 'RPFTOC',\n",
       " 'ECRGTOC',\n",
       " 'HFA',\n",
       " 'SAR_CEOS',\n",
       " 'CEOS']"
      ]
     },
     "execution_count": 17,
     "metadata": {},
     "output_type": "execute_result"
    }
   ],
   "source": [
    "gdal_driver_names[0:10]"
   ]
  },
  {
   "cell_type": "code",
   "execution_count": 18,
   "id": "40f006a1-8384-4894-af57-dd41e7a3887f",
   "metadata": {},
   "outputs": [
    {
     "data": {
      "text/plain": [
       "145"
      ]
     },
     "execution_count": 18,
     "metadata": {},
     "output_type": "execute_result"
    }
   ],
   "source": [
    "len(gdal_driver_names)"
   ]
  },
  {
   "cell_type": "markdown",
   "id": "e75ced99-3b23-4dcb-9f46-55c178ca320b",
   "metadata": {},
   "source": [
    "## Web APIs\n",
    "\n",
    "API allows one program to talk to another program and services provided by an API allow you to query for information in an automated way.\n",
    "\n",
    "APIs are incredibly useful for mapping and spatial analysis and allow you to query web servers and get results without downloading data or running computation on your machine.\n",
    "\n",
    "Sommon use cases for using APIs for spatial analysis are\n",
    "\n",
    "Getting directions / routing\n",
    "Route optimization\n",
    "Geocoding\n",
    "Downloading data\n",
    "Getting real-time weather data\n"
   ]
  },
  {
   "cell_type": "markdown",
   "id": "3a0bace0-991f-48aa-905c-f85565c70cc0",
   "metadata": {},
   "source": [
    "### JSON, GeoJSON\n",
    "\n",
    "JSON stands for JavaScript Object Notation. It's used for storing and transporting data and is the de-facto standard for data exchanged by APIs. GeoJSON is an extension of the JSON format that is commonly used to represent spatial data.\n",
    "\n",
    "Python has a built-in json module that has methods for reading json data and converting it to Python objects, and vice-versa. \n",
    "\n",
    "The GeoJSON data contains features, where each feature has some properties and a geometry."
   ]
  },
  {
   "cell_type": "code",
   "execution_count": 3,
   "id": "3fe14cde-6a8a-4241-ad91-5f3a20d5d3c2",
   "metadata": {},
   "outputs": [
    {
     "name": "stdout",
     "output_type": "stream",
     "text": [
      "\n",
      "{\n",
      "  \"type\": \"FeatureCollection\",\n",
      "  \"features\": [\n",
      "    {\"type\": \"Feature\",\n",
      "      \"properties\": {\"name\": \"Corvallis\"},\n",
      "      \"geometry\": {\"type\": \"Point\", \"coordinates\": [-123.2620, 44.5646]}\n",
      "    }\n",
      "  ]\n",
      "}\n",
      "\n"
     ]
    }
   ],
   "source": [
    "geojson_string = '''\n",
    "{\n",
    "  \"type\": \"FeatureCollection\",\n",
    "  \"features\": [\n",
    "    {\"type\": \"Feature\",\n",
    "      \"properties\": {\"name\": \"Corvallis\"},\n",
    "      \"geometry\": {\"type\": \"Point\", \"coordinates\": [-123.2620, 44.5646]}\n",
    "    }\n",
    "  ]\n",
    "}\n",
    "'''\n",
    "print(geojson_string)"
   ]
  },
  {
   "cell_type": "markdown",
   "id": "a470d956-fae9-4ef8-a697-ec47b5d47c7e",
   "metadata": {},
   "source": [
    "We can convert this JSON string to a Python object (i.e. parsing JSON) using the json.loads() method. This converts our JSON string to a Python dictionary."
   ]
  },
  {
   "cell_type": "code",
   "execution_count": 4,
   "id": "9b55f0c2-d387-4a77-a8cf-c8f9d1886c0e",
   "metadata": {},
   "outputs": [
    {
     "name": "stdout",
     "output_type": "stream",
     "text": [
      "<class 'dict'>\n",
      "{'type': 'FeatureCollection', 'features': [{'type': 'Feature', 'properties': {'name': 'Corvallis'}, 'geometry': {'type': 'Point', 'coordinates': [-123.262, 44.5646]}}]}\n"
     ]
    }
   ],
   "source": [
    "import json\n",
    "\n",
    "data = json.loads(geojson_string)\n",
    "print(type(data))\n",
    "print(data)"
   ]
  },
  {
   "cell_type": "markdown",
   "id": "26db55d4-2568-4b9e-a1a4-a62097a8c2b8",
   "metadata": {},
   "source": [
    "With the parsed GeoJSON string we have a Python dictionary we can more easily extract infromation from. The data is stored as a FeatureCollection in the dictionary. In this toy example, we have just 1 feature inside the feature collection, so we can access it by using index 0."
   ]
  },
  {
   "cell_type": "code",
   "execution_count": 5,
   "id": "93fbe818-a0e0-40e6-9728-c7987867e3c3",
   "metadata": {},
   "outputs": [
    {
     "name": "stdout",
     "output_type": "stream",
     "text": [
      "{'type': 'Feature', 'properties': {'name': 'Corvallis'}, 'geometry': {'type': 'Point', 'coordinates': [-123.262, 44.5646]}}\n"
     ]
    }
   ],
   "source": [
    "city_data = data['features'][0]\n",
    "print(city_data)"
   ]
  },
  {
   "cell_type": "markdown",
   "id": "94b3062e-9346-4b4f-8e15-e08741ed97d3",
   "metadata": {},
   "source": [
    "Since the feature representation is a dictionary we can access individual items using `keys`"
   ]
  },
  {
   "cell_type": "code",
   "execution_count": 8,
   "id": "06df844d-7812-4e48-8b29-de18df6d09a6",
   "metadata": {},
   "outputs": [
    {
     "name": "stdout",
     "output_type": "stream",
     "text": [
      "Corvallis [-123.262, 44.5646]\n"
     ]
    }
   ],
   "source": [
    "city_name = city_data['properties']['name']\n",
    "city_coordinates = city_data['geometry']['coordinates']\n",
    "print(city_name, city_coordinates)"
   ]
  },
  {
   "cell_type": "markdown",
   "id": "23581b78-20da-4831-ba67-fe870eb90065",
   "metadata": {},
   "source": [
    "## The `requests` module"
   ]
  },
  {
   "cell_type": "code",
   "execution_count": 8,
   "id": "958b98b1-2209-4562-a472-423110060719",
   "metadata": {},
   "outputs": [
    {
     "name": "stdout",
     "output_type": "stream",
     "text": [
      "200\n"
     ]
    }
   ],
   "source": [
    "import requests\n",
    "\n",
    "response = requests.get(\"https://api.github.com\")\n",
    "\n",
    "print(response.status_code)\n"
   ]
  },
  {
   "cell_type": "markdown",
   "id": "88984747-f940-4a36-bc3b-7b44812dc87b",
   "metadata": {},
   "source": [
    "Similar to what we did in R, we can customize a GET request by passing values through query string parameters in the URL."
   ]
  },
  {
   "cell_type": "code",
   "execution_count": 9,
   "id": "fff3d018-182f-4856-80f4-a9760dff1ffe",
   "metadata": {},
   "outputs": [
    {
     "name": "stdout",
     "output_type": "stream",
     "text": [
      "200\n"
     ]
    }
   ],
   "source": [
    "import requests\n",
    "\n",
    "# Search GitHub's repositories for `StreamCatTools`\n",
    "response = requests.get(\n",
    "    'https://api.github.com/search/repositories',\n",
    "    params={'q': 'StreamCatTools'},\n",
    ")\n",
    "\n",
    "print(response.status_code)"
   ]
  },
  {
   "cell_type": "markdown",
   "id": "210d489c-773b-4da7-ae89-e3e9fb38c893",
   "metadata": {},
   "source": [
    "Inspect some attributes of the `StreamCatTools` repository"
   ]
  },
  {
   "cell_type": "code",
   "execution_count": 10,
   "id": "20ae19d8-b53d-4edf-9134-72d593c61435",
   "metadata": {},
   "outputs": [
    {
     "name": "stdout",
     "output_type": "stream",
     "text": [
      "Repository name: StreamCatTools\n",
      "Repository description: R package to work with the StreamCat API within R and access the full suite of StreamCat catchment and waterhsed scale metrics for all NHDPlusV2 stream reaches and catchments.\n"
     ]
    }
   ],
   "source": [
    "json_response = response.json()\n",
    "repository = json_response['items'][0]\n",
    "print(f'Repository name: {repository[\"name\"]}')  \n",
    "print(f'Repository description: {repository[\"description\"]}')  "
   ]
  },
  {
   "cell_type": "code",
   "execution_count": 11,
   "id": "6b567118-c04d-485f-b5d0-0ca34f695955",
   "metadata": {},
   "outputs": [],
   "source": [
    "from pathlib import Path\n",
    "\n",
    "import geopandas as gpd\n",
    "import matplotlib.pyplot as plt\n",
    "import numpy as np\n",
    "import pandas as pd\n",
    "\n",
    "import pygeohydro as gh\n",
    "import pygeoutils as geoutils\n",
    "from pygeohydro import NID, NWIS\n",
    "from pynhd import NLDI, WaterData, ZeroMatchedError"
   ]
  },
  {
   "cell_type": "code",
   "execution_count": 16,
   "id": "4449159f-6576-4dd5-a955-b4eed0237b0a",
   "metadata": {},
   "outputs": [],
   "source": [
    "start = \"1985-01-01\"\n",
    "end = \"2015-01-01\"\n",
    "states = gh.helpers.get_us_states(\"contiguous\")\n",
    "oregon = states[states.STUSPS == \"OR\"]"
   ]
  },
  {
   "cell_type": "code",
   "execution_count": 17,
   "id": "48bed1b4-aadb-4385-bb98-c53ef3f34b11",
   "metadata": {},
   "outputs": [
    {
     "data": {
      "image/png": "[encoded data removed]",
      "text/plain": [
       "<Figure size 600x600 with 1 Axes>"
      ]
     },
     "metadata": {},
     "output_type": "display_data"
    }
   ],
   "source": [
    "_, ax = plt.subplots(dpi=100, figsize=(6, 6))\n",
    "oregon.plot(ax=ax, facecolor=\"b\", edgecolor=\"r\", linewidth=2, alpha=0.8, figsize=(10, 10))\n",
    "ax.set_axis_off()"
   ]
  },
  {
   "cell_type": "code",
   "execution_count": null,
   "id": "e0845868-10ee-4501-b238-78318f961e31",
   "metadata": {},
   "outputs": [],
   "source": []
  }
 ],
 "metadata": {
  "kernelspec": {
   "display_name": "Python 3 (ipykernel)",
   "language": "python",
   "name": "python3"
  },
  "language_info": {
   "codemirror_mode": {
    "name": "ipython",
    "version": 3
   },
   "file_extension": ".py",
   "mimetype": "text/x-python",
   "name": "python",
   "nbconvert_exporter": "python",
   "pygments_lexer": "ipython3",
   "version": "3.9.0"
  }
 },
 "nbformat": 4,
 "nbformat_minor": 5
}
