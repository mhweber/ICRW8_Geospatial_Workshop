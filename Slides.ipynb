{
 "cells": [
  {
   "cell_type": "markdown",
   "id": "c636b133-3ce4-4db5-a6f7-e45b68f73777",
   "metadata": {},
   "source": [
    "## Spatial Data Structures\n",
    "As we discussed, spatial data structures in modern Python implementation, as with R, rely on core libraries under the hood.\n",
    "\n",
    "These libraries include: \n",
    "\n",
    "  - **PROJ** --> projections, transformations  \n",
    "  \n",
    "  - **GEOS** --> Geometry operations (measures, relations)\n",
    "  \n",
    "  - **GDAL** --> geodata abstraction and processing (read, write)\n",
    "  \n",
    "As in R and elsewhere with spatial data, we have two main data models for spatial data that define how our conceptual model of elements of data are organized:\n",
    "- *vector data model*:  points, lines and areas\n",
    "- *raster data model*: a grid-like structure that holds values for each grid cell\n",
    "\n",
    "We also have *extensions* of these data models with:\n",
    "- *spatio-temporal data model*: A data model that incorporates time (t) as an additional dimension to the geographical dimension (x, y)\n",
    "- *topological data model*: A data model that *integrates* vector data so that topological relationships are incorporated into the core model, e.g. street networks (shortest routes) and for us, river networks - upstream / downstream relationships\n",
    "\n",
    "We apply different sets of spatial tools for different kinds of operations depending on the data model we're working with.\n",
    "\n",
    "**Vector Geometry Types**\n",
    "As we saw in R, our basic vector geometry types are defined with the [Simple Features Access Specification](https://www.ogc.org/standards/) - these types are `Point`, `LineString`, `Polygon`, and the collections types of `Multipoint`, `MultiLineString`, and `MultiPolygon`.\n",
    "\n",
    "Just as we showed previously, these geometries use either `WKT` or `WKB` specifications in a list-column to repesent vector data features.\n",
    "\n",
    "**Raster Data Type**\n",
    "\n",
    "In the raster data model data is represented as arrays of cells (pixels) to represent real-world objects or continuous phenomena. Photos with a digital camera are essentially raster data (without spatial reference though) that capture RGB colors and store as pixels in separate layers (or bands or channels). \n",
    "\n",
    "Aspects of the raster data model include:\n",
    "- *spatial resolution*: The size in real world units of the a cell\n",
    "- *continuous or discrete* do the cells represent continuous information like soil type or geology or discrete information like land cover classification?\n",
    "- *bit depth*: The range of values the raster can hold\n",
    "\n",
    "\n",
    "![_ Raster data model ](../img/raster_data_model.jpg)\n",
    "\n",
    "_Figure 1. Raster data model from [Python for Geographic Data Analysis Chapter 5](https://pythongis.org/part2/chapter-05/nb/01-introduction-to-geographic-data-in-python.html)_\n",
    "\n",
    "\n",
    "![_**Figure 2**. Examples of raster bit depths._](../img/raster_bit_depths.jpg)\n",
    "\n",
    "_Figure 2. Raster data model from [Python for Geographic Data Analysis Chapter 5](https://pythongis.org/part2/chapter-05/nb/01-introduction-to-geographic-data-in-python.html)_\n",
    "\n",
    "**Raster data formats**\n",
    "\n",
    "Raster data comes in a wide variety of formats but a few of the most common are:\n",
    "\n",
    "- **GeoTIFF**: An popen, non-proprietary raster data format based on the `TIFF format` originally developed at NASA in the early 90's. Portable and platform independent. The file extension of GeoTIFF is `.tif`. \n",
    "- **COG**: A Cloud Optimized GeoTIFF (COG) is a file format based on GeoTIFF. COG files are typically hosted on HTTP file servers. The format can enable more efficient workflows with large data files by leveraging the ability of users to *retrieve just the parts of the file that they need*, instead of downloading the whole file every time. The file extension of COG is `.tif` (i.e. the same as with GeoTIFF). \n",
    "- **NetCDF**: Network Common Data Form (NetCDF) is a portable, self-describing and scalable file format for storing array-oriented multidimensional scientific data, commonly used for storing earch science data. Variables stored in NetCDF are often measured multiple times per day (i.e.. temporal) over large (e.g. continental) areas. The file extension of NetCDF is `.nc4`. \n",
    "- **ASCII Grid**: The ASCII Raster File format is a simple format that can be used to transfer raster data between various applications. The file format was originally developed by ESRI and it is also known as Arc/Info ASCII grid. The file extension of ASCII Raster File is `.asc`. \n",
    "- **IMG**: The ERDAS Imagine file format (IMG) is proprietary file format that was originally created by an image processing software company called ERDAS. The file can be accompanied with an .xml file which stores metadata information about the raster layer. The file extension of Imagine file format is `.img`.\n",
    "\n",
    "**Network Data Model**\n",
    "See [this section in Python for Geographic Data Analysis](https://pythongis.org/part2/chapter-05/nb/01-introduction-to-geographic-data-in-python.html#representing-spatial-networks) for a nice treatment of the network data model."
   ]
  },
  {
   "cell_type": "markdown",
   "id": "eb4cff5c-d077-46a7-affa-ed8457b56b3d",
   "metadata": {},
   "source": [
    "### Vector Data in Python\n",
    "We can see see the list of supported drivers for vector data available through GDAL and exposesed by the `Fiona` library:"
   ]
  },
  {
   "cell_type": "markdown",
   "id": "c25d9130-8d3f-4ff2-b519-46fc62e3d5e0",
   "metadata": {},
   "source": [
    "#### `Fiona`"
   ]
  },
  {
   "cell_type": "code",
   "execution_count": 2,
   "id": "8cbc0591-0885-4bc3-850a-f9d7825b5b42",
   "metadata": {
    "scrolled": true
   },
   "outputs": [
    {
     "data": {
      "text/plain": [
       "{'DXF': 'rw',\n",
       " 'CSV': 'raw',\n",
       " 'OpenFileGDB': 'raw',\n",
       " 'ESRIJSON': 'r',\n",
       " 'ESRI Shapefile': 'raw',\n",
       " 'FlatGeobuf': 'raw',\n",
       " 'GeoJSON': 'raw',\n",
       " 'GeoJSONSeq': 'raw',\n",
       " 'GPKG': 'raw',\n",
       " 'GML': 'rw',\n",
       " 'OGR_GMT': 'rw',\n",
       " 'GPX': 'rw',\n",
       " 'Idrisi': 'r',\n",
       " 'MapInfo File': 'raw',\n",
       " 'DGN': 'raw',\n",
       " 'PCIDSK': 'raw',\n",
       " 'OGR_PDS': 'r',\n",
       " 'S57': 'r',\n",
       " 'SQLite': 'raw',\n",
       " 'TopoJSON': 'r'}"
      ]
     },
     "execution_count": 2,
     "metadata": {},
     "output_type": "execute_result"
    }
   ],
   "source": [
    "import fiona; fiona.supported_drivers"
   ]
  },
  {
   "cell_type": "markdown",
   "id": "de043a9d-9eda-4069-be0a-387e3f23cd92",
   "metadata": {},
   "source": [
    "#### `Pyogrio`"
   ]
  },
  {
   "cell_type": "markdown",
   "id": "403b0815-f436-42b1-8ce0-f1723947c588",
   "metadata": {},
   "source": [
    "We can also use a newer counterpart to `fiona` - [pyogrio](https://pyogrio.readthedocs.io/en/latest/about.html).  \n",
    "\n",
    "Pyogrio provides a GeoPandas-oriented API to OGR vector data sources, such as ESRI Shapefile, GeoPackage, and GeoJSON. Internally, `pyogrio` uses a `numpy`-oriented approach in `Cython` to read information about data sources and records from spatial data layers. Geometries are extracted from the data layer as Well-Known Binary (WKB) objects and fields (attributes) are read into `numpy` arrays of the appropriate data type. These are then converted to `GeoPandas` `GeoDataFrames`.\n",
    "\n",
    "You can also pass `engine=pyogrio` to `geopandas.read_file` to take advantage of this library. This allows to pass `use_arrow=True` among some other `kwargs` (keyword arguments) to this function that can further speed up reading large files such as NHDPlus. `fiona` supports a wider range of `GDAL` supported files but is slow for large datasets. `pygrio` supports both  (Geo)Parquet and Feather file formats which are richer, mature geospatial formats."
   ]
  },
  {
   "cell_type": "code",
   "execution_count": 5,
   "id": "9cbd256c-859b-4ef7-ae86-6f922db46237",
   "metadata": {
    "scrolled": true
   },
   "outputs": [
    {
     "data": {
      "text/plain": [
       "{'FITS': 'rw',\n",
       " 'PCIDSK': 'rw',\n",
       " 'netCDF': 'rw',\n",
       " 'PDS4': 'rw',\n",
       " 'VICAR': 'rw',\n",
       " 'JP2OpenJPEG': 'r',\n",
       " 'PDF': 'rw',\n",
       " 'MBTiles': 'rw',\n",
       " 'TileDB': 'rw',\n",
       " 'BAG': 'rw',\n",
       " 'EEDA': 'r',\n",
       " 'OGCAPI': 'r',\n",
       " 'ESRI Shapefile': 'rw',\n",
       " 'MapInfo File': 'rw',\n",
       " 'UK .NTF': 'r',\n",
       " 'LVBAG': 'r',\n",
       " 'OGR_SDTS': 'r',\n",
       " 'S57': 'rw',\n",
       " 'DGN': 'rw',\n",
       " 'OGR_VRT': 'r',\n",
       " 'Memory': 'rw',\n",
       " 'CSV': 'rw',\n",
       " 'NAS': 'r',\n",
       " 'GML': 'rw',\n",
       " 'GPX': 'rw',\n",
       " 'LIBKML': 'rw',\n",
       " 'KML': 'rw',\n",
       " 'GeoJSON': 'rw',\n",
       " 'GeoJSONSeq': 'rw',\n",
       " 'ESRIJSON': 'r',\n",
       " 'TopoJSON': 'r',\n",
       " 'Interlis 1': 'rw',\n",
       " 'Interlis 2': 'rw',\n",
       " 'OGR_GMT': 'rw',\n",
       " 'GPKG': 'rw',\n",
       " 'SQLite': 'rw',\n",
       " 'ODBC': 'r',\n",
       " 'WAsP': 'rw',\n",
       " 'PGeo': 'r',\n",
       " 'MSSQLSpatial': 'rw',\n",
       " 'PostgreSQL': 'rw',\n",
       " 'OpenFileGDB': 'rw',\n",
       " 'DXF': 'rw',\n",
       " 'CAD': 'r',\n",
       " 'FlatGeobuf': 'rw',\n",
       " 'Geoconcept': 'rw',\n",
       " 'GeoRSS': 'rw',\n",
       " 'VFK': 'r',\n",
       " 'PGDUMP': 'rw',\n",
       " 'OSM': 'r',\n",
       " 'GPSBabel': 'rw',\n",
       " 'OGR_PDS': 'r',\n",
       " 'WFS': 'r',\n",
       " 'OAPIF': 'r',\n",
       " 'EDIGEO': 'r',\n",
       " 'SVG': 'r',\n",
       " 'Idrisi': 'r',\n",
       " 'XLS': 'r',\n",
       " 'ODS': 'rw',\n",
       " 'XLSX': 'r',\n",
       " 'Elasticsearch': 'rw',\n",
       " 'Carto': 'rw',\n",
       " 'AmigoCloud': 'rw',\n",
       " 'SXF': 'r',\n",
       " 'Selafin': 'rw',\n",
       " 'JML': 'rw',\n",
       " 'PLSCENES': 'r',\n",
       " 'CSW': 'r',\n",
       " 'VDV': 'rw',\n",
       " 'GMLAS': 'r',\n",
       " 'MVT': 'rw',\n",
       " 'NGW': 'rw',\n",
       " 'MapML': 'rw',\n",
       " 'GTFS': 'r',\n",
       " 'TIGER': 'r',\n",
       " 'AVCBin': 'r',\n",
       " 'AVCE00': 'r',\n",
       " 'HTTP': 'r'}"
      ]
     },
     "execution_count": 5,
     "metadata": {},
     "output_type": "execute_result"
    }
   ],
   "source": [
    "from pyogrio import list_drivers\n",
    "list_drivers()"
   ]
  },
  {
   "cell_type": "markdown",
   "id": "edbad0df-f54d-4610-919e-cb33af5ef8a1",
   "metadata": {},
   "source": [
    "We can see what version of `gdal` `pyogrio` was compiled against:"
   ]
  },
  {
   "cell_type": "code",
   "execution_count": 7,
   "id": "10e7c173-f50a-455a-9d59-9def238b6dfc",
   "metadata": {},
   "outputs": [
    {
     "data": {
      "text/plain": [
       "(3, 7, 0)"
      ]
     },
     "execution_count": 7,
     "metadata": {},
     "output_type": "execute_result"
    }
   ],
   "source": [
    "import pyogrio\n",
    "pyogrio.__gdal_version__"
   ]
  },
  {
   "cell_type": "markdown",
   "id": "943c6fc3-1fd6-4487-b9aa-3e4c7a81f01d",
   "metadata": {},
   "source": [
    "### `Geopandas` Uses [Simple Feature Access](https://www.ogc.org/standard/sfa/)\n",
    "**Vector** geometry with `Geopandas` and `Shapely`. Just as we saw with `sf` in R, `geopandas` uses Simple Feature Access standard for storing vector geometry.\n",
    "\n",
    "As decribed in the [Geopandas documentation](https://geopandas.org/en/stable/docs/user_guide/data_structures.html), `Geopandas` has two main data structures much like `sf` in R, `Geoseries` and `GeoDataFrame` - they are subcasses of `pandas.Series` and `pandas.DataFrame`.\n",
    "\n",
    "A GeoSeries is a vector where each entry in the vector is a set of shapes corresponding to one observation.  As we mentioned above, with the `Simple Features` specification the `Geopandas` uses we have three main types of geometries:\n",
    "* `Point` /  `Multipoint`\n",
    "* `LineString` / `MultiLineString`\n",
    "* `Polygon` / `MultiPolygon`\n",
    "\n",
    "#### `Shapely` attributes and methods\n",
    "We can use most [attributes and methods](https://shapely.readthedocs.io/en/stable/manual.html) for `Shapely` objects in the `Geopandas` `Geoseries` class.\n",
    "\n",
    "This is a reiteration of material found in the [Geopandas user guide](https://geopandas.org/en/stable/docs/user_guide/data_structures.html) but just to highlight here:\n",
    "\n",
    "**Attributes**\n",
    "*area*: shape area (units of projection – see projections)\n",
    "\n",
    "*bounds*: tuple of max and min coordinates on each axis for each shape\n",
    "\n",
    "*total_bounds*: tuple of max and min coordinates on each axis for entire GeoSeries\n",
    "\n",
    "*geom_type*: type of geometry.\n",
    "\n",
    "*is_valid*: tests if coordinates make a shape that is reasonable geometric shape according to the Simple Feature Access standard.\n",
    "\n",
    "*make_valid*: repairs invalid geometries.\n",
    "\n",
    "**Methods**\n",
    "*distance()*: returns Series with minimum distance from each entry to other\n",
    "\n",
    "*centroid*: returns GeoSeries of centroids\n",
    "\n",
    "*representative_point()*: returns GeoSeries of points that are guaranteed to be within each geometry - doesn'y return centroids.\n",
    "\n",
    "*to_crs()*: change coordinate reference system\n",
    "\n",
    "*plot()*: plot a GeoSeries\n",
    "\n",
    "**Relationship tests**\n",
    "*geom_almost_equals()*: is shape almost the same as other (good when floating point precision issues make shapes slightly different)\n",
    "\n",
    "*contains()*: is shape contained within other\n",
    "\n",
    "*intersects()*: does shape intersect other\n",
    "\n",
    "**GeoDataFrames**\n",
    "A `GeoDataFrame` always has a `GeoSeries` column that contains the `GeoDataFrame`s geometry\n",
    "\n",
    "[This page](https://geobgu.xyz/py/geopandas1.html) from 'Spatial Data Programming with Python, given at the Department of Geography and Environmental Development, Ben-Gurion University of the Negev' gives a great thorugh treatment of vector layers in `geopandas`."
   ]
  },
  {
   "cell_type": "code",
   "execution_count": 1,
   "id": "25d5f3d7-285c-4c90-a080-aed04a476a33",
   "metadata": {},
   "outputs": [],
   "source": [
    "import geopandas as gp\n",
    "import pygeohydro as gh"
   ]
  },
  {
   "cell_type": "code",
   "execution_count": 2,
   "id": "155d088a-dfee-4da5-bce3-a1a2bde16c15",
   "metadata": {},
   "outputs": [
    {
     "data": {
      "text/plain": [
       "<Axes: >"
      ]
     },
     "execution_count": 2,
     "metadata": {},
     "output_type": "execute_result"
    },
    {
     "data": {
      "image/png": "[encoded data removed]",
      "text/plain": [
       "<Figure size 640x480 with 1 Axes>"
      ]
     },
     "metadata": {},
     "output_type": "display_data"
    }
   ],
   "source": [
    "# states = gh.get_us_states(\"conus\")\n",
    "# oregon = states[states.STUSPS == \"OR\"]\n",
    "# more concisely\n",
    "oregon = gh.get_us_states(\"OR\")\n",
    "oregon.plot()"
   ]
  },
  {
   "cell_type": "markdown",
   "id": "e247d1ac-58b3-4810-8f57-89182d8c73f5",
   "metadata": {},
   "source": [
    "What is the name of our data frame column that stores geometry?"
   ]
  },
  {
   "cell_type": "code",
   "execution_count": 3,
   "id": "6f1519d5-9173-4ef2-b9b2-4b9633eb1f32",
   "metadata": {},
   "outputs": [
    {
     "data": {
      "text/plain": [
       "'geometry'"
      ]
     },
     "execution_count": 3,
     "metadata": {},
     "output_type": "execute_result"
    }
   ],
   "source": [
    "oregon.geometry.name"
   ]
  },
  {
   "cell_type": "markdown",
   "id": "8b943dc1-9499-4758-9c37-c4ebe5cc9c40",
   "metadata": {},
   "source": [
    "Check if our geometry is valid:"
   ]
  },
  {
   "cell_type": "code",
   "execution_count": 4,
   "id": "d3664aa4-67f4-4aa2-a42e-b3d50b550152",
   "metadata": {},
   "outputs": [
    {
     "data": {
      "text/plain": [
       "16    True\n",
       "dtype: bool"
      ]
     },
     "execution_count": 4,
     "metadata": {},
     "output_type": "execute_result"
    }
   ],
   "source": [
    "oregon['geometry'].is_valid"
   ]
  },
  {
   "cell_type": "markdown",
   "id": "a141486b-8adb-4ebd-b8f2-1e3747dc4ffe",
   "metadata": {},
   "source": [
    "Here we're throwing in a little extra twist using [geoconnex](https://geoconnex.internetofwater.dev/) to access US counties and get counties for Oregon.  [Geoconnex](https://geoconnex.internetofwater.dev/) is a web service developed by Internet Of Water that provides access to a number of hydro-linked datasets and [PyNHD](https://docs.hyriver.io/examples/notebooks/geoconnex.html) provides access to all GeoConnex endpoints."
   ]
  },
  {
   "cell_type": "code",
   "execution_count": 5,
   "id": "b1a03ec3-cfec-4cea-970a-6eb93d1d9aca",
   "metadata": {},
   "outputs": [
    {
     "name": "stdout",
     "output_type": "stream",
     "text": [
      "hu02: Two-digit Hydrologic Regions\n",
      "hu04: Four-digit Hydrologic Subregion\n",
      "hu06: Six-digit Hydrologic Basins\n",
      "hu08: Eight-digit Hydrologic Subbasins\n",
      "hu10: Ten-digit Watersheds\n",
      "nat_aq: National Aquifers of the United States from USGS National Water Information System National Aquifer code list.\n",
      "principal_aq: Principal Aquifers of the United States from 2003 USGS data release\n",
      "sec_hydrg_reg: Secondary Hydrogeologic Regions of the Conterminous United States from 2018 USGS data release\n",
      "gages: US Reference Stream Gage Monitoring Locations\n",
      "mainstems: US Reference Mainstem Rivers\n",
      "states: U.S. States\n",
      "counties: U.S. Counties\n",
      "aiannh: Native American Lands\n",
      "cbsa: U.S. Metropolitan and Micropolitan Statistical Areas\n",
      "ua10: Urbanized Areas and Urban Clusters (2010 Census)\n",
      "places: U.S. legally incorporated and Census designated places\n",
      "pws: U.S. Public Water Systems\n",
      "dams: US Reference Dams\n"
     ]
    }
   ],
   "source": [
    "from pynhd import GeoConnex\n",
    "gcx = GeoConnex(dev=False)\n",
    "print(\"\\n\".join(f\"{n}: {e.description}\" for n, e in gcx.endpoints.items()))"
   ]
  },
  {
   "cell_type": "markdown",
   "id": "4466a3ed-1550-44c2-a22b-1d7467629aec",
   "metadata": {},
   "source": [
    "We can get a bit of information on how we can query an endpoint using `.item`:"
   ]
  },
  {
   "cell_type": "code",
   "execution_count": 10,
   "id": "301b480f-762f-4306-b3fb-5ef178326a3c",
   "metadata": {},
   "outputs": [
    {
     "data": {
      "text/plain": [
       "Item: 'counties'\n",
       "Description: U.S. Counties\n",
       "Queryable Fields: fid, uri, statefp, countyfp, countyns, affgeoid, geoid, name, lsad, census_profile\n",
       "Extent: (-170, 15, -51, 72)"
      ]
     },
     "execution_count": 10,
     "metadata": {},
     "output_type": "execute_result"
    }
   ],
   "source": [
    "gcx.item = \"counties\"\n",
    "gcx"
   ]
  },
  {
   "cell_type": "markdown",
   "id": "018e3fcc-a8bf-4ab3-815d-8348a00a16ff",
   "metadata": {},
   "source": [
    "We want counties in Oregon so we should query `statefp` and use Oregon's FIPs code of `41` as the value"
   ]
  },
  {
   "cell_type": "code",
   "execution_count": 11,
   "id": "6cbbdaeb-059c-4800-9959-a8e58afca1f2",
   "metadata": {},
   "outputs": [
    {
     "data": {
      "image/png": "[encoded data removed]",
      "text/plain": [
       "<Figure size 600x600 with 1 Axes>"
      ]
     },
     "metadata": {},
     "output_type": "display_data"
    }
   ],
   "source": [
    "or_counties = gcx.byid(\"statefp\", \"41\")\n",
    "ax = or_counties.plot(figsize=(6, 6))\n",
    "ax.set_axis_off()"
   ]
  },
  {
   "cell_type": "markdown",
   "id": "9cdec544-30bf-439c-9e91-baf960e927d6",
   "metadata": {},
   "source": [
    "We can create centroids *and* make the centroids the geometry"
   ]
  },
  {
   "cell_type": "code",
   "execution_count": 13,
   "id": "0b0f9f22-7e15-4008-8bcb-2c2329d67efc",
   "metadata": {},
   "outputs": [
    {
     "data": {
      "text/plain": [
       "<Axes: >"
      ]
     },
     "execution_count": 13,
     "metadata": {},
     "output_type": "execute_result"
    },
    {
     "data": {
      "image/png": "[encoded data removed]",
      "text/plain": [
       "<Figure size 640x480 with 1 Axes>"
      ]
     },
     "metadata": {},
     "output_type": "display_data"
    }
   ],
   "source": [
    "or_counties = or_counties.to_crs(epsg=32610)\n",
    "pts = or_counties['geometry'].centroid\n",
    "pts.plot()"
   ]
  },
  {
   "cell_type": "markdown",
   "id": "ff3ed639-fc67-418a-a3fc-578b9a4c04b6",
   "metadata": {},
   "source": [
    "It may be necessary to do steps below if above doesn't work"
   ]
  },
  {
   "cell_type": "code",
   "execution_count": 55,
   "id": "fc40c53c-e3b7-4b68-aba0-7c2d658924be",
   "metadata": {},
   "outputs": [],
   "source": [
    "# or_counties_exploded = or_counties_exploded.explode(column='geometry', ignore_index=True, index_parts=False)"
   ]
  },
  {
   "cell_type": "code",
   "execution_count": null,
   "id": "e143650b-ad6e-4b79-8bc2-d645706fa593",
   "metadata": {},
   "outputs": [],
   "source": [
    "# or_counties_exploded.head()"
   ]
  },
  {
   "cell_type": "code",
   "execution_count": null,
   "id": "3f642d1f-d9ca-49bd-a014-e2b62f2e81ce",
   "metadata": {},
   "outputs": [],
   "source": [
    "# or_counties_exploded = or_counties_exploded.to_crs(epsg=32610)\n",
    "# pts = or_counties_exploded['geometry'].centroid\n",
    "# pts.plot()"
   ]
  },
  {
   "cell_type": "markdown",
   "id": "6c1adc94-c2a8-4d7f-ae71-5de43170e9ad",
   "metadata": {},
   "source": [
    "#### Useful vector file read features in `pyogrio` and `geopandas`\n",
    "Notice here we're pointing to a zip file hosted online and both `geopandas` and `pyogrio` can read information from and read the online zip file directly - this will work with any file of this type! Try some you know of..."
   ]
  },
  {
   "cell_type": "markdown",
   "id": "2e44199c-5430-463e-be00-edf26505453b",
   "metadata": {},
   "source": [
    "Get information about a file without reading file in:"
   ]
  },
  {
   "cell_type": "code",
   "execution_count": 18,
   "id": "faa467a2-4b55-4877-acba-a05cc47b7e48",
   "metadata": {},
   "outputs": [
    {
     "data": {
      "text/plain": [
       "array([['ne_10m_admin_0_countries', 'Polygon']], dtype=object)"
      ]
     },
     "execution_count": 18,
     "metadata": {},
     "output_type": "execute_result"
    }
   ],
   "source": [
    "from pyogrio import list_layers\n",
    "list_layers('https://www.naturalearthdata.com/http//www.naturalearthdata.com/download/10m/cultural/ne_10m_admin_0_countries.zip')"
   ]
  },
  {
   "cell_type": "code",
   "execution_count": 22,
   "id": "7af86e7a-dcfb-4fd9-b6c6-ee25cfe4a0d0",
   "metadata": {
    "scrolled": true
   },
   "outputs": [
    {
     "data": {
      "text/plain": [
       "{'crs': 'EPSG:4326',\n",
       " 'encoding': 'UTF-8',\n",
       " 'fields': array(['featurecla', 'scalerank', 'LABELRANK', 'SOVEREIGNT', 'SOV_A3',\n",
       "        'ADM0_DIF', 'LEVEL', 'TYPE', 'TLC', 'ADMIN', 'ADM0_A3', 'GEOU_DIF',\n",
       "        'GEOUNIT', 'GU_A3', 'SU_DIF', 'SUBUNIT', 'SU_A3', 'BRK_DIFF',\n",
       "        'NAME', 'NAME_LONG', 'BRK_A3', 'BRK_NAME', 'BRK_GROUP', 'ABBREV',\n",
       "        'POSTAL', 'FORMAL_EN', 'FORMAL_FR', 'NAME_CIAWF', 'NOTE_ADM0',\n",
       "        'NOTE_BRK', 'NAME_SORT', 'NAME_ALT', 'MAPCOLOR7', 'MAPCOLOR8',\n",
       "        'MAPCOLOR9', 'MAPCOLOR13', 'POP_EST', 'POP_RANK', 'POP_YEAR',\n",
       "        'GDP_MD', 'GDP_YEAR', 'ECONOMY', 'INCOME_GRP', 'FIPS_10', 'ISO_A2',\n",
       "        'ISO_A2_EH', 'ISO_A3', 'ISO_A3_EH', 'ISO_N3', 'ISO_N3_EH', 'UN_A3',\n",
       "        'WB_A2', 'WB_A3', 'WOE_ID', 'WOE_ID_EH', 'WOE_NOTE', 'ADM0_ISO',\n",
       "        'ADM0_DIFF', 'ADM0_TLC', 'ADM0_A3_US', 'ADM0_A3_FR', 'ADM0_A3_RU',\n",
       "        'ADM0_A3_ES', 'ADM0_A3_CN', 'ADM0_A3_TW', 'ADM0_A3_IN',\n",
       "        'ADM0_A3_NP', 'ADM0_A3_PK', 'ADM0_A3_DE', 'ADM0_A3_GB',\n",
       "        'ADM0_A3_BR', 'ADM0_A3_IL', 'ADM0_A3_PS', 'ADM0_A3_SA',\n",
       "        'ADM0_A3_EG', 'ADM0_A3_MA', 'ADM0_A3_PT', 'ADM0_A3_AR',\n",
       "        'ADM0_A3_JP', 'ADM0_A3_KO', 'ADM0_A3_VN', 'ADM0_A3_TR',\n",
       "        'ADM0_A3_ID', 'ADM0_A3_PL', 'ADM0_A3_GR', 'ADM0_A3_IT',\n",
       "        'ADM0_A3_NL', 'ADM0_A3_SE', 'ADM0_A3_BD', 'ADM0_A3_UA',\n",
       "        'ADM0_A3_UN', 'ADM0_A3_WB', 'CONTINENT', 'REGION_UN', 'SUBREGION',\n",
       "        'REGION_WB', 'NAME_LEN', 'LONG_LEN', 'ABBREV_LEN', 'TINY',\n",
       "        'HOMEPART', 'MIN_ZOOM', 'MIN_LABEL', 'MAX_LABEL', 'LABEL_X',\n",
       "        'LABEL_Y', 'NE_ID', 'WIKIDATAID', 'NAME_AR', 'NAME_BN', 'NAME_DE',\n",
       "        'NAME_EN', 'NAME_ES', 'NAME_FA', 'NAME_FR', 'NAME_EL', 'NAME_HE',\n",
       "        'NAME_HI', 'NAME_HU', 'NAME_ID', 'NAME_IT', 'NAME_JA', 'NAME_KO',\n",
       "        'NAME_NL', 'NAME_PL', 'NAME_PT', 'NAME_RU', 'NAME_SV', 'NAME_TR',\n",
       "        'NAME_UK', 'NAME_UR', 'NAME_VI', 'NAME_ZH', 'NAME_ZHT',\n",
       "        'FCLASS_ISO', 'TLC_DIFF', 'FCLASS_TLC', 'FCLASS_US', 'FCLASS_FR',\n",
       "        'FCLASS_RU', 'FCLASS_ES', 'FCLASS_CN', 'FCLASS_TW', 'FCLASS_IN',\n",
       "        'FCLASS_NP', 'FCLASS_PK', 'FCLASS_DE', 'FCLASS_GB', 'FCLASS_BR',\n",
       "        'FCLASS_IL', 'FCLASS_PS', 'FCLASS_SA', 'FCLASS_EG', 'FCLASS_MA',\n",
       "        'FCLASS_PT', 'FCLASS_AR', 'FCLASS_JP', 'FCLASS_KO', 'FCLASS_VN',\n",
       "        'FCLASS_TR', 'FCLASS_ID', 'FCLASS_PL', 'FCLASS_GR', 'FCLASS_IT',\n",
       "        'FCLASS_NL', 'FCLASS_SE', 'FCLASS_BD', 'FCLASS_UA'], dtype=object),\n",
       " 'dtypes': array(['object', 'int32', 'int32', 'object', 'object', 'int32', 'int32',\n",
       "        'object', 'object', 'object', 'object', 'int32', 'object',\n",
       "        'object', 'int32', 'object', 'object', 'int32', 'object', 'object',\n",
       "        'object', 'object', 'object', 'object', 'object', 'object',\n",
       "        'object', 'object', 'object', 'object', 'object', 'object',\n",
       "        'int32', 'int32', 'int32', 'int32', 'float64', 'int32', 'int32',\n",
       "        'int32', 'int32', 'object', 'object', 'object', 'object', 'object',\n",
       "        'object', 'object', 'object', 'object', 'object', 'object',\n",
       "        'object', 'int32', 'int32', 'object', 'object', 'object', 'object',\n",
       "        'object', 'object', 'object', 'object', 'object', 'object',\n",
       "        'object', 'object', 'object', 'object', 'object', 'object',\n",
       "        'object', 'object', 'object', 'object', 'object', 'object',\n",
       "        'object', 'object', 'object', 'object', 'object', 'object',\n",
       "        'object', 'object', 'object', 'object', 'object', 'object',\n",
       "        'object', 'int32', 'int32', 'object', 'object', 'object', 'object',\n",
       "        'int32', 'int32', 'int32', 'int32', 'int32', 'float64', 'float64',\n",
       "        'float64', 'float64', 'float64', 'int64', 'object', 'object',\n",
       "        'object', 'object', 'object', 'object', 'object', 'object',\n",
       "        'object', 'object', 'object', 'object', 'object', 'object',\n",
       "        'object', 'object', 'object', 'object', 'object', 'object',\n",
       "        'object', 'object', 'object', 'object', 'object', 'object',\n",
       "        'object', 'object', 'object', 'object', 'object', 'object',\n",
       "        'object', 'object', 'object', 'object', 'object', 'object',\n",
       "        'object', 'object', 'object', 'object', 'object', 'object',\n",
       "        'object', 'object', 'object', 'object', 'object', 'object',\n",
       "        'object', 'object', 'object', 'object', 'object', 'object',\n",
       "        'object', 'object', 'object', 'object', 'object'], dtype=object),\n",
       " 'geometry_type': 'Polygon',\n",
       " 'features': 258,\n",
       " 'driver': 'ESRI Shapefile',\n",
       " 'capabilities': {'random_read': 1,\n",
       "  'fast_set_next_by_index': 1,\n",
       "  'fast_spatial_filter': 0},\n",
       " 'layer_metadata': {'DBF_DATE_LAST_UPDATE': '2022-05-08'},\n",
       " 'dataset_metadata': None}"
      ]
     },
     "execution_count": 22,
     "metadata": {},
     "output_type": "execute_result"
    }
   ],
   "source": [
    "from pyogrio import read_info\n",
    "df = 'https://www.naturalearthdata.com/http//www.naturalearthdata.com/download/10m/cultural/ne_10m_admin_0_countries.zip'\n",
    "read_info(df)"
   ]
  },
  {
   "cell_type": "markdown",
   "id": "6f2a6538-b8b9-48c6-99b0-07ef04656553",
   "metadata": {},
   "source": [
    "**Only read certain columns:**\n"
   ]
  },
  {
   "cell_type": "code",
   "execution_count": 24,
   "id": "c51a8291-a64c-4e6b-b594-d99af8d0ed07",
   "metadata": {},
   "outputs": [
    {
     "data": {
      "text/html": [
       "<div>\n",
       "<style scoped>\n",
       "    .dataframe tbody tr th:only-of-type {\n",
       "        vertical-align: middle;\n",
       "    }\n",
       "\n",
       "    .dataframe tbody tr th {\n",
       "        vertical-align: top;\n",
       "    }\n",
       "\n",
       "    .dataframe thead th {\n",
       "        text-align: right;\n",
       "    }\n",
       "</style>\n",
       "<table border=\"1\" class=\"dataframe\">\n",
       "  <thead>\n",
       "    <tr style=\"text-align: right;\">\n",
       "      <th></th>\n",
       "      <th>NAME</th>\n",
       "      <th>geometry</th>\n",
       "    </tr>\n",
       "  </thead>\n",
       "  <tbody>\n",
       "    <tr>\n",
       "      <th>0</th>\n",
       "      <td>Indonesia</td>\n",
       "      <td>MULTIPOLYGON (((117.70361 4.16341, 117.70361 4...</td>\n",
       "    </tr>\n",
       "    <tr>\n",
       "      <th>1</th>\n",
       "      <td>Malaysia</td>\n",
       "      <td>MULTIPOLYGON (((117.70361 4.16341, 117.69711 4...</td>\n",
       "    </tr>\n",
       "    <tr>\n",
       "      <th>2</th>\n",
       "      <td>Chile</td>\n",
       "      <td>MULTIPOLYGON (((-69.51009 -17.50659, -69.50611...</td>\n",
       "    </tr>\n",
       "    <tr>\n",
       "      <th>3</th>\n",
       "      <td>Bolivia</td>\n",
       "      <td>POLYGON ((-69.51009 -17.50659, -69.51009 -17.5...</td>\n",
       "    </tr>\n",
       "    <tr>\n",
       "      <th>4</th>\n",
       "      <td>Peru</td>\n",
       "      <td>MULTIPOLYGON (((-69.51009 -17.50659, -69.63832...</td>\n",
       "    </tr>\n",
       "    <tr>\n",
       "      <th>...</th>\n",
       "      <td>...</td>\n",
       "      <td>...</td>\n",
       "    </tr>\n",
       "    <tr>\n",
       "      <th>253</th>\n",
       "      <td>Macao</td>\n",
       "      <td>MULTIPOLYGON (((113.55860 22.16303, 113.56943 ...</td>\n",
       "    </tr>\n",
       "    <tr>\n",
       "      <th>254</th>\n",
       "      <td>Ashmore and Cartier Is.</td>\n",
       "      <td>POLYGON ((123.59702 -12.42832, 123.59775 -12.4...</td>\n",
       "    </tr>\n",
       "    <tr>\n",
       "      <th>255</th>\n",
       "      <td>Bajo Nuevo Bank</td>\n",
       "      <td>POLYGON ((-79.98929 15.79495, -79.98782 15.796...</td>\n",
       "    </tr>\n",
       "    <tr>\n",
       "      <th>256</th>\n",
       "      <td>Serranilla Bank</td>\n",
       "      <td>POLYGON ((-78.63707 15.86209, -78.64041 15.864...</td>\n",
       "    </tr>\n",
       "    <tr>\n",
       "      <th>257</th>\n",
       "      <td>Scarborough Reef</td>\n",
       "      <td>POLYGON ((117.75389 15.15437, 117.75569 15.151...</td>\n",
       "    </tr>\n",
       "  </tbody>\n",
       "</table>\n",
       "<p>258 rows × 2 columns</p>\n",
       "</div>"
      ],
      "text/plain": [
       "                        NAME  \\\n",
       "0                  Indonesia   \n",
       "1                   Malaysia   \n",
       "2                      Chile   \n",
       "3                    Bolivia   \n",
       "4                       Peru   \n",
       "..                       ...   \n",
       "253                    Macao   \n",
       "254  Ashmore and Cartier Is.   \n",
       "255          Bajo Nuevo Bank   \n",
       "256          Serranilla Bank   \n",
       "257         Scarborough Reef   \n",
       "\n",
       "                                              geometry  \n",
       "0    MULTIPOLYGON (((117.70361 4.16341, 117.70361 4...  \n",
       "1    MULTIPOLYGON (((117.70361 4.16341, 117.69711 4...  \n",
       "2    MULTIPOLYGON (((-69.51009 -17.50659, -69.50611...  \n",
       "3    POLYGON ((-69.51009 -17.50659, -69.51009 -17.5...  \n",
       "4    MULTIPOLYGON (((-69.51009 -17.50659, -69.63832...  \n",
       "..                                                 ...  \n",
       "253  MULTIPOLYGON (((113.55860 22.16303, 113.56943 ...  \n",
       "254  POLYGON ((123.59702 -12.42832, 123.59775 -12.4...  \n",
       "255  POLYGON ((-79.98929 15.79495, -79.98782 15.796...  \n",
       "256  POLYGON ((-78.63707 15.86209, -78.64041 15.864...  \n",
       "257  POLYGON ((117.75389 15.15437, 117.75569 15.151...  \n",
       "\n",
       "[258 rows x 2 columns]"
      ]
     },
     "execution_count": 24,
     "metadata": {},
     "output_type": "execute_result"
    }
   ],
   "source": [
    "from pyogrio import read_dataframe\n",
    "read_dataframe(df, columns=['NAME'])"
   ]
  },
  {
   "cell_type": "markdown",
   "id": "457727fc-1fe9-433d-8a10-e1811f176ad5",
   "metadata": {},
   "source": [
    "**Only read certain rows**\n",
    "Note here we can apply a slice - AND we can read same online data as a `geojson` rather than a zipped `shapefile`"
   ]
  },
  {
   "cell_type": "code",
   "execution_count": 26,
   "id": "fc953003-f28f-483b-ba9c-8e03cd91dae7",
   "metadata": {},
   "outputs": [
    {
     "data": {
      "text/html": [
       "<div>\n",
       "<style scoped>\n",
       "    .dataframe tbody tr th:only-of-type {\n",
       "        vertical-align: middle;\n",
       "    }\n",
       "\n",
       "    .dataframe tbody tr th {\n",
       "        vertical-align: top;\n",
       "    }\n",
       "\n",
       "    .dataframe thead th {\n",
       "        text-align: right;\n",
       "    }\n",
       "</style>\n",
       "<table border=\"1\" class=\"dataframe\">\n",
       "  <thead>\n",
       "    <tr style=\"text-align: right;\">\n",
       "      <th></th>\n",
       "      <th>scalerank</th>\n",
       "      <th>featureclass</th>\n",
       "      <th>geometry</th>\n",
       "    </tr>\n",
       "  </thead>\n",
       "  <tbody>\n",
       "    <tr>\n",
       "      <th>0</th>\n",
       "      <td>1</td>\n",
       "      <td>Country</td>\n",
       "      <td>POLYGON ((70.28000 -49.71000, 68.74500 -49.775...</td>\n",
       "    </tr>\n",
       "    <tr>\n",
       "      <th>1</th>\n",
       "      <td>1</td>\n",
       "      <td>Country</td>\n",
       "      <td>POLYGON ((145.39798 -40.79255, 146.36412 -41.1...</td>\n",
       "    </tr>\n",
       "    <tr>\n",
       "      <th>2</th>\n",
       "      <td>1</td>\n",
       "      <td>Country</td>\n",
       "      <td>POLYGON ((173.02037 -40.91905, 173.24723 -41.3...</td>\n",
       "    </tr>\n",
       "    <tr>\n",
       "      <th>3</th>\n",
       "      <td>1</td>\n",
       "      <td>Country</td>\n",
       "      <td>POLYGON ((174.61201 -36.15640, 175.33662 -37.2...</td>\n",
       "    </tr>\n",
       "    <tr>\n",
       "      <th>4</th>\n",
       "      <td>1</td>\n",
       "      <td>Country</td>\n",
       "      <td>POLYGON ((167.12001 -22.15999, 166.74003 -22.3...</td>\n",
       "    </tr>\n",
       "    <tr>\n",
       "      <th>5</th>\n",
       "      <td>1</td>\n",
       "      <td>Country</td>\n",
       "      <td>POLYGON ((178.37360 -17.33992, 178.71806 -17.6...</td>\n",
       "    </tr>\n",
       "    <tr>\n",
       "      <th>6</th>\n",
       "      <td>1</td>\n",
       "      <td>Country</td>\n",
       "      <td>POLYGON ((179.36414 -16.80135, 178.72506 -17.0...</td>\n",
       "    </tr>\n",
       "    <tr>\n",
       "      <th>7</th>\n",
       "      <td>1</td>\n",
       "      <td>Country</td>\n",
       "      <td>POLYGON ((-179.91737 -16.50178, -180.00000 -16...</td>\n",
       "    </tr>\n",
       "    <tr>\n",
       "      <th>8</th>\n",
       "      <td>1</td>\n",
       "      <td>Country</td>\n",
       "      <td>POLYGON ((167.84488 -16.46633, 167.51518 -16.5...</td>\n",
       "    </tr>\n",
       "    <tr>\n",
       "      <th>9</th>\n",
       "      <td>1</td>\n",
       "      <td>Country</td>\n",
       "      <td>POLYGON ((167.10771 -14.93392, 167.27003 -15.7...</td>\n",
       "    </tr>\n",
       "  </tbody>\n",
       "</table>\n",
       "</div>"
      ],
      "text/plain": [
       "   scalerank featureclass                                           geometry\n",
       "0          1      Country  POLYGON ((70.28000 -49.71000, 68.74500 -49.775...\n",
       "1          1      Country  POLYGON ((145.39798 -40.79255, 146.36412 -41.1...\n",
       "2          1      Country  POLYGON ((173.02037 -40.91905, 173.24723 -41.3...\n",
       "3          1      Country  POLYGON ((174.61201 -36.15640, 175.33662 -37.2...\n",
       "4          1      Country  POLYGON ((167.12001 -22.15999, 166.74003 -22.3...\n",
       "5          1      Country  POLYGON ((178.37360 -17.33992, 178.71806 -17.6...\n",
       "6          1      Country  POLYGON ((179.36414 -16.80135, 178.72506 -17.0...\n",
       "7          1      Country  POLYGON ((-179.91737 -16.50178, -180.00000 -16...\n",
       "8          1      Country  POLYGON ((167.84488 -16.46633, 167.51518 -16.5...\n",
       "9          1      Country  POLYGON ((167.10771 -14.93392, 167.27003 -15.7..."
      ]
     },
     "execution_count": 26,
     "metadata": {},
     "output_type": "execute_result"
    }
   ],
   "source": [
    "url = \"http://d2ad6b4ur7yvpq.cloudfront.net/naturalearth-3.3.0/ne_110m_land.geojson\"\n",
    "df = gp.read_file(url,rows=slice(10, 20))\n",
    "df"
   ]
  },
  {
   "cell_type": "markdown",
   "id": "8a434e21-29a2-4d8c-8a41-4bb2111c7860",
   "metadata": {},
   "source": [
    "**Filter with SQL queries**"
   ]
  },
  {
   "cell_type": "code",
   "execution_count": 36,
   "id": "f0e2ea6c-d234-458e-b601-7461da803c44",
   "metadata": {},
   "outputs": [
    {
     "data": {
      "text/html": [
       "<div>\n",
       "<style scoped>\n",
       "    .dataframe tbody tr th:only-of-type {\n",
       "        vertical-align: middle;\n",
       "    }\n",
       "\n",
       "    .dataframe tbody tr th {\n",
       "        vertical-align: top;\n",
       "    }\n",
       "\n",
       "    .dataframe thead th {\n",
       "        text-align: right;\n",
       "    }\n",
       "</style>\n",
       "<table border=\"1\" class=\"dataframe\">\n",
       "  <thead>\n",
       "    <tr style=\"text-align: right;\">\n",
       "      <th></th>\n",
       "      <th>featurecla</th>\n",
       "      <th>scalerank</th>\n",
       "      <th>LABELRANK</th>\n",
       "      <th>SOVEREIGNT</th>\n",
       "      <th>SOV_A3</th>\n",
       "      <th>ADM0_DIF</th>\n",
       "      <th>LEVEL</th>\n",
       "      <th>TYPE</th>\n",
       "      <th>TLC</th>\n",
       "      <th>ADMIN</th>\n",
       "      <th>...</th>\n",
       "      <th>FCLASS_TR</th>\n",
       "      <th>FCLASS_ID</th>\n",
       "      <th>FCLASS_PL</th>\n",
       "      <th>FCLASS_GR</th>\n",
       "      <th>FCLASS_IT</th>\n",
       "      <th>FCLASS_NL</th>\n",
       "      <th>FCLASS_SE</th>\n",
       "      <th>FCLASS_BD</th>\n",
       "      <th>FCLASS_UA</th>\n",
       "      <th>geometry</th>\n",
       "    </tr>\n",
       "  </thead>\n",
       "  <tbody>\n",
       "    <tr>\n",
       "      <th>0</th>\n",
       "      <td>Admin-0 country</td>\n",
       "      <td>0</td>\n",
       "      <td>2</td>\n",
       "      <td>India</td>\n",
       "      <td>IND</td>\n",
       "      <td>0</td>\n",
       "      <td>2</td>\n",
       "      <td>Sovereign country</td>\n",
       "      <td>1</td>\n",
       "      <td>India</td>\n",
       "      <td>...</td>\n",
       "      <td>NaN</td>\n",
       "      <td>NaN</td>\n",
       "      <td>NaN</td>\n",
       "      <td>NaN</td>\n",
       "      <td>NaN</td>\n",
       "      <td>NaN</td>\n",
       "      <td>NaN</td>\n",
       "      <td>NaN</td>\n",
       "      <td>NaN</td>\n",
       "      <td>MULTIPOLYGON (((77.80035 35.49541, 77.81533 35...</td>\n",
       "    </tr>\n",
       "    <tr>\n",
       "      <th>1</th>\n",
       "      <td>Admin-0 country</td>\n",
       "      <td>0</td>\n",
       "      <td>2</td>\n",
       "      <td>China</td>\n",
       "      <td>CH1</td>\n",
       "      <td>1</td>\n",
       "      <td>2</td>\n",
       "      <td>Country</td>\n",
       "      <td>1</td>\n",
       "      <td>China</td>\n",
       "      <td>...</td>\n",
       "      <td>NaN</td>\n",
       "      <td>NaN</td>\n",
       "      <td>NaN</td>\n",
       "      <td>NaN</td>\n",
       "      <td>NaN</td>\n",
       "      <td>NaN</td>\n",
       "      <td>NaN</td>\n",
       "      <td>NaN</td>\n",
       "      <td>NaN</td>\n",
       "      <td>MULTIPOLYGON (((78.91769 33.38626, 78.91595 33...</td>\n",
       "    </tr>\n",
       "  </tbody>\n",
       "</table>\n",
       "<p>2 rows × 169 columns</p>\n",
       "</div>"
      ],
      "text/plain": [
       "        featurecla  scalerank  LABELRANK SOVEREIGNT SOV_A3  ADM0_DIF  LEVEL  \\\n",
       "0  Admin-0 country          0          2      India    IND         0      2   \n",
       "1  Admin-0 country          0          2      China    CH1         1      2   \n",
       "\n",
       "                TYPE TLC  ADMIN  ... FCLASS_TR  FCLASS_ID FCLASS_PL FCLASS_GR  \\\n",
       "0  Sovereign country   1  India  ...       NaN        NaN       NaN       NaN   \n",
       "1            Country   1  China  ...       NaN        NaN       NaN       NaN   \n",
       "\n",
       "   FCLASS_IT FCLASS_NL FCLASS_SE  FCLASS_BD FCLASS_UA  \\\n",
       "0        NaN       NaN       NaN        NaN       NaN   \n",
       "1        NaN       NaN       NaN        NaN       NaN   \n",
       "\n",
       "                                            geometry  \n",
       "0  MULTIPOLYGON (((77.80035 35.49541, 77.81533 35...  \n",
       "1  MULTIPOLYGON (((78.91769 33.38626, 78.91595 33...  \n",
       "\n",
       "[2 rows x 169 columns]"
      ]
     },
     "execution_count": 36,
     "metadata": {},
     "output_type": "execute_result"
    }
   ],
   "source": [
    "df = 'https://www.naturalearthdata.com/http//www.naturalearthdata.com/download/10m/cultural/ne_10m_admin_0_countries.zip'\n",
    "gp.read_file(df, where=\"POP_EST > 900000000\")"
   ]
  },
  {
   "cell_type": "markdown",
   "id": "d9b6b00d-91d2-4682-a50d-1e7d2a3c318f",
   "metadata": {},
   "source": [
    "**Filter by Spatial Extent**"
   ]
  },
  {
   "cell_type": "code",
   "execution_count": 37,
   "id": "1928b7b4-5924-4cc3-a236-0f1266025160",
   "metadata": {},
   "outputs": [
    {
     "data": {
      "text/html": [
       "<div>\n",
       "<style scoped>\n",
       "    .dataframe tbody tr th:only-of-type {\n",
       "        vertical-align: middle;\n",
       "    }\n",
       "\n",
       "    .dataframe tbody tr th {\n",
       "        vertical-align: top;\n",
       "    }\n",
       "\n",
       "    .dataframe thead th {\n",
       "        text-align: right;\n",
       "    }\n",
       "</style>\n",
       "<table border=\"1\" class=\"dataframe\">\n",
       "  <thead>\n",
       "    <tr style=\"text-align: right;\">\n",
       "      <th></th>\n",
       "      <th>featurecla</th>\n",
       "      <th>scalerank</th>\n",
       "      <th>LABELRANK</th>\n",
       "      <th>SOVEREIGNT</th>\n",
       "      <th>SOV_A3</th>\n",
       "      <th>ADM0_DIF</th>\n",
       "      <th>LEVEL</th>\n",
       "      <th>TYPE</th>\n",
       "      <th>TLC</th>\n",
       "      <th>ADMIN</th>\n",
       "      <th>...</th>\n",
       "      <th>FCLASS_TR</th>\n",
       "      <th>FCLASS_ID</th>\n",
       "      <th>FCLASS_PL</th>\n",
       "      <th>FCLASS_GR</th>\n",
       "      <th>FCLASS_IT</th>\n",
       "      <th>FCLASS_NL</th>\n",
       "      <th>FCLASS_SE</th>\n",
       "      <th>FCLASS_BD</th>\n",
       "      <th>FCLASS_UA</th>\n",
       "      <th>geometry</th>\n",
       "    </tr>\n",
       "  </thead>\n",
       "  <tbody>\n",
       "    <tr>\n",
       "      <th>0</th>\n",
       "      <td>Admin-0 country</td>\n",
       "      <td>0</td>\n",
       "      <td>2</td>\n",
       "      <td>United States of America</td>\n",
       "      <td>US1</td>\n",
       "      <td>1</td>\n",
       "      <td>2</td>\n",
       "      <td>Country</td>\n",
       "      <td>1</td>\n",
       "      <td>United States of America</td>\n",
       "      <td>...</td>\n",
       "      <td>None</td>\n",
       "      <td>None</td>\n",
       "      <td>None</td>\n",
       "      <td>None</td>\n",
       "      <td>None</td>\n",
       "      <td>None</td>\n",
       "      <td>None</td>\n",
       "      <td>None</td>\n",
       "      <td>None</td>\n",
       "      <td>MULTIPOLYGON (((-122.75302 48.99251, -122.6532...</td>\n",
       "    </tr>\n",
       "    <tr>\n",
       "      <th>1</th>\n",
       "      <td>Admin-0 country</td>\n",
       "      <td>0</td>\n",
       "      <td>2</td>\n",
       "      <td>Mexico</td>\n",
       "      <td>MEX</td>\n",
       "      <td>0</td>\n",
       "      <td>2</td>\n",
       "      <td>Sovereign country</td>\n",
       "      <td>1</td>\n",
       "      <td>Mexico</td>\n",
       "      <td>...</td>\n",
       "      <td>None</td>\n",
       "      <td>None</td>\n",
       "      <td>None</td>\n",
       "      <td>None</td>\n",
       "      <td>None</td>\n",
       "      <td>None</td>\n",
       "      <td>None</td>\n",
       "      <td>None</td>\n",
       "      <td>None</td>\n",
       "      <td>MULTIPOLYGON (((-97.13927 25.96581, -97.16747 ...</td>\n",
       "    </tr>\n",
       "  </tbody>\n",
       "</table>\n",
       "<p>2 rows × 169 columns</p>\n",
       "</div>"
      ],
      "text/plain": [
       "        featurecla  scalerank  LABELRANK                SOVEREIGNT SOV_A3  \\\n",
       "0  Admin-0 country          0          2  United States of America    US1   \n",
       "1  Admin-0 country          0          2                    Mexico    MEX   \n",
       "\n",
       "   ADM0_DIF  LEVEL               TYPE TLC                     ADMIN  ...  \\\n",
       "0         1      2            Country   1  United States of America  ...   \n",
       "1         0      2  Sovereign country   1                    Mexico  ...   \n",
       "\n",
       "  FCLASS_TR  FCLASS_ID FCLASS_PL FCLASS_GR  FCLASS_IT FCLASS_NL FCLASS_SE  \\\n",
       "0      None       None      None      None       None      None      None   \n",
       "1      None       None      None      None       None      None      None   \n",
       "\n",
       "   FCLASS_BD FCLASS_UA                                           geometry  \n",
       "0       None      None  MULTIPOLYGON (((-122.75302 48.99251, -122.6532...  \n",
       "1       None      None  MULTIPOLYGON (((-97.13927 25.96581, -97.16747 ...  \n",
       "\n",
       "[2 rows x 169 columns]"
      ]
     },
     "execution_count": 37,
     "metadata": {},
     "output_type": "execute_result"
    }
   ],
   "source": [
    "read_dataframe(df, bbox=(-140, 20, -100, 40))"
   ]
  },
  {
   "cell_type": "markdown",
   "id": "e99f8d9b-5f13-4531-a105-f3ff7741858e",
   "metadata": {},
   "source": [
    "### Raster Data in Python\n",
    "We can see see the list of supported drivers for raster data available through GDAL:"
   ]
  },
  {
   "cell_type": "code",
   "execution_count": 3,
   "id": "63ef8cd8-008d-4052-9947-8db7a45496c7",
   "metadata": {},
   "outputs": [],
   "source": [
    "from osgeo import gdal\n",
    "all_driver_names = [gdal.GetDriver(i).GetDescription() for i in range(gdal.GetDriverCount())] \n",
    "gdal_driver_names = [driver_name for driver_name in all_driver_names if gdal.GetDriverByName(driver_name).GetMetadataItem('DCAP_RASTER') == 'YES']\n"
   ]
  },
  {
   "cell_type": "code",
   "execution_count": 4,
   "id": "80fd0714-c9f4-4eb6-95f9-d44dcda544d6",
   "metadata": {},
   "outputs": [
    {
     "data": {
      "text/plain": [
       "['VRT',\n",
       " 'DERIVED',\n",
       " 'GTiff',\n",
       " 'COG',\n",
       " 'NITF',\n",
       " 'RPFTOC',\n",
       " 'ECRGTOC',\n",
       " 'HFA',\n",
       " 'SAR_CEOS',\n",
       " 'CEOS']"
      ]
     },
     "execution_count": 4,
     "metadata": {},
     "output_type": "execute_result"
    }
   ],
   "source": [
    "gdal_driver_names[0:10]"
   ]
  },
  {
   "cell_type": "code",
   "execution_count": 18,
   "id": "40f006a1-8384-4894-af57-dd41e7a3887f",
   "metadata": {},
   "outputs": [
    {
     "data": {
      "text/plain": [
       "145"
      ]
     },
     "execution_count": 18,
     "metadata": {},
     "output_type": "execute_result"
    }
   ],
   "source": [
    "len(gdal_driver_names)"
   ]
  },
  {
   "cell_type": "markdown",
   "id": "e75ced99-3b23-4dcb-9f46-55c178ca320b",
   "metadata": {},
   "source": [
    "## Web APIs\n",
    "\n",
    "API allows one program to talk to another program and services provided by an API allow you to query for information in an automated way.\n",
    "\n",
    "APIs are incredibly useful for mapping and spatial analysis and allow you to query web servers and get results without downloading data or running computation on your machine.\n",
    "\n",
    "Sommon use cases for using APIs for spatial analysis are\n",
    "\n",
    "Getting directions / routing\n",
    "Route optimization\n",
    "Geocoding\n",
    "Downloading data\n",
    "Getting real-time weather data\n"
   ]
  },
  {
   "cell_type": "markdown",
   "id": "3a0bace0-991f-48aa-905c-f85565c70cc0",
   "metadata": {},
   "source": [
    "### JSON, GeoJSON\n",
    "\n",
    "JSON stands for JavaScript Object Notation. It's used for storing and transporting data and is the de-facto standard for data exchanged by APIs. GeoJSON is an extension of the JSON format that is commonly used to represent spatial data.\n",
    "\n",
    "Python has a built-in json module that has methods for reading json data and converting it to Python objects, and vice-versa. \n",
    "\n",
    "The GeoJSON data contains features, where each feature has some properties and a geometry."
   ]
  },
  {
   "cell_type": "code",
   "execution_count": 3,
   "id": "3fe14cde-6a8a-4241-ad91-5f3a20d5d3c2",
   "metadata": {},
   "outputs": [
    {
     "name": "stdout",
     "output_type": "stream",
     "text": [
      "\n",
      "{\n",
      "  \"type\": \"FeatureCollection\",\n",
      "  \"features\": [\n",
      "    {\"type\": \"Feature\",\n",
      "      \"properties\": {\"name\": \"Corvallis\"},\n",
      "      \"geometry\": {\"type\": \"Point\", \"coordinates\": [-123.2620, 44.5646]}\n",
      "    }\n",
      "  ]\n",
      "}\n",
      "\n"
     ]
    }
   ],
   "source": [
    "geojson_string = '''\n",
    "{\n",
    "  \"type\": \"FeatureCollection\",\n",
    "  \"features\": [\n",
    "    {\"type\": \"Feature\",\n",
    "      \"properties\": {\"name\": \"Corvallis\"},\n",
    "      \"geometry\": {\"type\": \"Point\", \"coordinates\": [-123.2620, 44.5646]}\n",
    "    }\n",
    "  ]\n",
    "}\n",
    "'''\n",
    "print(geojson_string)"
   ]
  },
  {
   "cell_type": "markdown",
   "id": "a470d956-fae9-4ef8-a697-ec47b5d47c7e",
   "metadata": {},
   "source": [
    "We can convert this JSON string to a Python object (i.e. parsing JSON) using the json.loads() method. This converts our JSON string to a Python dictionary."
   ]
  },
  {
   "cell_type": "code",
   "execution_count": 4,
   "id": "9b55f0c2-d387-4a77-a8cf-c8f9d1886c0e",
   "metadata": {},
   "outputs": [
    {
     "name": "stdout",
     "output_type": "stream",
     "text": [
      "<class 'dict'>\n",
      "{'type': 'FeatureCollection', 'features': [{'type': 'Feature', 'properties': {'name': 'Corvallis'}, 'geometry': {'type': 'Point', 'coordinates': [-123.262, 44.5646]}}]}\n"
     ]
    }
   ],
   "source": [
    "import json\n",
    "\n",
    "data = json.loads(geojson_string)\n",
    "print(type(data))\n",
    "print(data)"
   ]
  },
  {
   "cell_type": "markdown",
   "id": "26db55d4-2568-4b9e-a1a4-a62097a8c2b8",
   "metadata": {},
   "source": [
    "With the parsed GeoJSON string we have a Python dictionary we can more easily extract infromation from. The data is stored as a FeatureCollection in the dictionary. In this toy example, we have just 1 feature inside the feature collection, so we can access it by using index 0."
   ]
  },
  {
   "cell_type": "code",
   "execution_count": 5,
   "id": "93fbe818-a0e0-40e6-9728-c7987867e3c3",
   "metadata": {},
   "outputs": [
    {
     "name": "stdout",
     "output_type": "stream",
     "text": [
      "{'type': 'Feature', 'properties': {'name': 'Corvallis'}, 'geometry': {'type': 'Point', 'coordinates': [-123.262, 44.5646]}}\n"
     ]
    }
   ],
   "source": [
    "city_data = data['features'][0]\n",
    "print(city_data)"
   ]
  },
  {
   "cell_type": "markdown",
   "id": "94b3062e-9346-4b4f-8e15-e08741ed97d3",
   "metadata": {},
   "source": [
    "Since the feature representation is a dictionary we can access individual items using `keys`"
   ]
  },
  {
   "cell_type": "code",
   "execution_count": 8,
   "id": "06df844d-7812-4e48-8b29-de18df6d09a6",
   "metadata": {},
   "outputs": [
    {
     "name": "stdout",
     "output_type": "stream",
     "text": [
      "Corvallis [-123.262, 44.5646]\n"
     ]
    }
   ],
   "source": [
    "city_name = city_data['properties']['name']\n",
    "city_coordinates = city_data['geometry']['coordinates']\n",
    "print(city_name, city_coordinates)"
   ]
  },
  {
   "cell_type": "markdown",
   "id": "23581b78-20da-4831-ba67-fe870eb90065",
   "metadata": {},
   "source": [
    "## The `requests` module"
   ]
  },
  {
   "cell_type": "code",
   "execution_count": 8,
   "id": "958b98b1-2209-4562-a472-423110060719",
   "metadata": {},
   "outputs": [
    {
     "name": "stdout",
     "output_type": "stream",
     "text": [
      "200\n"
     ]
    }
   ],
   "source": [
    "import requests\n",
    "\n",
    "response = requests.get(\"https://api.github.com\")\n",
    "\n",
    "print(response.status_code)\n"
   ]
  },
  {
   "cell_type": "markdown",
   "id": "88984747-f940-4a36-bc3b-7b44812dc87b",
   "metadata": {},
   "source": [
    "Similar to what we did in R, we can customize a GET request by passing values through query string parameters in the URL."
   ]
  },
  {
   "cell_type": "code",
   "execution_count": 9,
   "id": "fff3d018-182f-4856-80f4-a9760dff1ffe",
   "metadata": {},
   "outputs": [
    {
     "name": "stdout",
     "output_type": "stream",
     "text": [
      "200\n"
     ]
    }
   ],
   "source": [
    "import requests\n",
    "\n",
    "# Search GitHub's repositories for `StreamCatTools`\n",
    "response = requests.get(\n",
    "    'https://api.github.com/search/repositories',\n",
    "    params={'q': 'StreamCatTools'},\n",
    ")\n",
    "\n",
    "print(response.status_code)"
   ]
  },
  {
   "cell_type": "markdown",
   "id": "210d489c-773b-4da7-ae89-e3e9fb38c893",
   "metadata": {},
   "source": [
    "Inspect some attributes of the `StreamCatTools` repository"
   ]
  },
  {
   "cell_type": "code",
   "execution_count": 10,
   "id": "20ae19d8-b53d-4edf-9134-72d593c61435",
   "metadata": {},
   "outputs": [
    {
     "name": "stdout",
     "output_type": "stream",
     "text": [
      "Repository name: StreamCatTools\n",
      "Repository description: R package to work with the StreamCat API within R and access the full suite of StreamCat catchment and waterhsed scale metrics for all NHDPlusV2 stream reaches and catchments.\n"
     ]
    }
   ],
   "source": [
    "json_response = response.json()\n",
    "repository = json_response['items'][0]\n",
    "print(f'Repository name: {repository[\"name\"]}')  \n",
    "print(f'Repository description: {repository[\"description\"]}')  "
   ]
  },
  {
   "cell_type": "code",
   "execution_count": null,
   "id": "e0845868-10ee-4501-b238-78318f961e31",
   "metadata": {},
   "outputs": [],
   "source": []
  }
 ],
 "metadata": {
  "kernelspec": {
   "display_name": "Python 3 (ipykernel)",
   "language": "python",
   "name": "python3"
  },
  "language_info": {
   "codemirror_mode": {
    "name": "ipython",
    "version": 3
   },
   "file_extension": ".py",
   "mimetype": "text/x-python",
   "name": "python",
   "nbconvert_exporter": "python",
   "pygments_lexer": "ipython3",
   "version": "3.11.3"
  }
 },
 "nbformat": 4,
 "nbformat_minor": 5
}
